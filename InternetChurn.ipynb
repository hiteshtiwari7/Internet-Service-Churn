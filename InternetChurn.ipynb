{
  "cells": [
    {
      "cell_type": "markdown",
      "metadata": {
        "id": "view-in-github",
        "colab_type": "text"
      },
      "source": [
        "<a href=\"https://colab.research.google.com/github/hiteshtiwari7/Internet-Service-Churn/blob/main/InternetChurn.ipynb\" target=\"_parent\"><img src=\"https://colab.research.google.com/assets/colab-badge.svg\" alt=\"Open In Colab\"/></a>"
      ]
    },
    {
      "cell_type": "markdown",
      "source": [
        "# **INTERNET SERVICE CHURN PREDICTION**\n",
        "\n",
        "---\n",
        "\n",
        "\n",
        "\n",
        "---\n",
        "\n",
        "\n",
        "\n",
        "\n",
        "### > **Objectives**\n",
        "\n",
        "* To identify the customers on the basis of their profiles that are likely to churn with available features.\n",
        "* To build models that predict whether customers will churn or not.\n",
        "\n",
        "\n",
        "---\n",
        "\n",
        "\n",
        "\n",
        "\n",
        "**What is Churn?**\n",
        "\n",
        "Churn is a measurement of the percentage of accounts that cancel or choose not to renew their subscriptions.\n",
        "\n",
        "\n",
        "*   Churn rates can be applied to subscription-based businesses as well to the number of employees that leave a firm.\n",
        "*   The churn rate and growth rate are diametrically opposite factors, as the former measures the loss of customers and the other measures the acquisition of customers.\n",
        "*   For a company to experience growth it must ensure that its new subscriptions are higher than its lost subscriptions in a given period.\n",
        " \n",
        "\n",
        "**Churn rate provides information about -**\n",
        "\n",
        "\n",
        "\n",
        "*   Clarity on the quality of the business.\n",
        "*   Indicates whether customers are satisfied or dissatisfied with the product or service.\n",
        "\n",
        "\n",
        "---\n",
        "\n",
        "\n",
        "### **Context**\n",
        "There is a big competition between Internet service providers. If a provider wants to increase its revenue, he needs more subscribers but to keep existing customer is more important than having new ones. So, providers want to know which customer could cancel his/her services. If they know who can go, maybe they can catch them with promotional offers.\n",
        "\n",
        "\n",
        "### **Introduction to data**\n",
        "The dataset consist of the following features: \n",
        "1) is_tv_subscriber customer - has a tv subscription ?\n",
        "\n",
        "2) is_movie_package_subscriber?\n",
        "\n",
        "3) subscription_age - how many year has the customer use our service\n",
        "\n",
        "4) bill_avg - last 3 months bill avg\n",
        "\n",
        "5) remaining_contract - how many year remaining for customer contract. If null; customer didn't have a contract. the customer who has a contract time have to use their service until contract end.if they canceled their service before contract time end they pay a penalty fare.\n",
        "\n",
        "Two ways in which a customer could be using the services. One through a time-bound contract which costs less and another through a normal monthly subscription which obviously costs more. So, even if a person is not in a contract, he's still a user who's paying monthly fees.\n",
        "\n",
        "5) service_failure_count customer - call count to call center for service failure for last 3 months\n",
        "\n",
        "6) download_avg - last 3 months internet usage (GB)\n",
        "\n",
        "7) upload_avg last - 3 months upload avg (GB)\n",
        "\n",
        "8) download_over_limit - most of customer has a download limit. if they reach this limit they have to pay for this. this column contain \"limit over count\" for last 9 months\n",
        "\n",
        "9) churn - this is the target column. if 1 customer canceled his service\n",
        "\n",
        "The dataset is taken from https://www.kaggle.com/mehmetsabrikunt/internet-service-churn/metadata\n",
        "\n",
        "Consist of 72275 rows and 11 columns.\n",
        "\n",
        "\n",
        "\n",
        "\n",
        "\n",
        "\n",
        "\n",
        "\n",
        "\n",
        "\n",
        "\n",
        "\n",
        "\n",
        "\n",
        "\n",
        "\n",
        "\n",
        "\n",
        "\n",
        "\n"
      ],
      "metadata": {
        "id": "0k7QuF0wEMfD"
      }
    },
    {
      "cell_type": "code",
      "execution_count": 1,
      "metadata": {
        "id": "5tRNBXJ0pQo3"
      },
      "outputs": [],
      "source": [
        "import numpy as np\n",
        "import pandas as pd\n",
        "import matplotlib.pyplot as plt\n",
        "import seaborn as sns"
      ]
    },
    {
      "cell_type": "code",
      "execution_count": 2,
      "metadata": {
        "id": "DLfZvECErdRl"
      },
      "outputs": [],
      "source": [
        "df = pd.read_csv('/content/drive/MyDrive/internet_churn.csv')"
      ]
    },
    {
      "cell_type": "code",
      "execution_count": null,
      "metadata": {
        "colab": {
          "base_uri": "https://localhost:8080/",
          "height": 424
        },
        "id": "F5y5pdaLrkzs",
        "outputId": "b8bfbf99-99d7-48e4-9f9d-28eb5c5b1a3f"
      },
      "outputs": [
        {
          "output_type": "execute_result",
          "data": {
            "text/plain": [
              "            id  tv_subscriber  movie_subscriber  subscription_age  bill_avg  \\\n",
              "0           15              1                 0             11.95        25   \n",
              "1           18              0                 0              8.22         0   \n",
              "2           23              1                 0              8.91        16   \n",
              "3           27              0                 0              6.87        21   \n",
              "4           34              0                 0              6.39         0   \n",
              "...        ...            ...               ...               ...       ...   \n",
              "72269  1689648              1                 1              0.09         0   \n",
              "72270  1689676              1                 0              0.06         1   \n",
              "72271  1689679              1                 0              0.02         0   \n",
              "72272  1689733              0                 0              0.01         0   \n",
              "72273  1689744              1                 1              0.01         0   \n",
              "\n",
              "       remaining_contract  service_failure_count  download_avg  upload_avg  \\\n",
              "0                    0.14                      0           8.4         2.3   \n",
              "1                     NaN                      0           0.0         0.0   \n",
              "2                    0.00                      0          13.7         0.9   \n",
              "3                     NaN                      1           0.0         0.0   \n",
              "4                     NaN                      0           0.0         0.0   \n",
              "...                   ...                    ...           ...         ...   \n",
              "72269                1.25                      0           0.0         0.0   \n",
              "72270                1.63                      0           0.8         0.0   \n",
              "72271                2.19                      0           1.5         0.2   \n",
              "72272                0.72                      0           0.0         0.0   \n",
              "72273                0.82                      0           0.0         0.0   \n",
              "\n",
              "       download_over_limit  churn  \n",
              "0                        0      0  \n",
              "1                        0      1  \n",
              "2                        0      1  \n",
              "3                        0      1  \n",
              "4                        0      1  \n",
              "...                    ...    ...  \n",
              "72269                    0      1  \n",
              "72270                    0      1  \n",
              "72271                    0      1  \n",
              "72272                    0      1  \n",
              "72273                    0      1  \n",
              "\n",
              "[72274 rows x 11 columns]"
            ],
            "text/html": [
              "\n",
              "  <div id=\"df-2010204f-a0f8-4f8a-9d7e-d720cfc5bd25\">\n",
              "    <div class=\"colab-df-container\">\n",
              "      <div>\n",
              "<style scoped>\n",
              "    .dataframe tbody tr th:only-of-type {\n",
              "        vertical-align: middle;\n",
              "    }\n",
              "\n",
              "    .dataframe tbody tr th {\n",
              "        vertical-align: top;\n",
              "    }\n",
              "\n",
              "    .dataframe thead th {\n",
              "        text-align: right;\n",
              "    }\n",
              "</style>\n",
              "<table border=\"1\" class=\"dataframe\">\n",
              "  <thead>\n",
              "    <tr style=\"text-align: right;\">\n",
              "      <th></th>\n",
              "      <th>id</th>\n",
              "      <th>tv_subscriber</th>\n",
              "      <th>movie_subscriber</th>\n",
              "      <th>subscription_age</th>\n",
              "      <th>bill_avg</th>\n",
              "      <th>remaining_contract</th>\n",
              "      <th>service_failure_count</th>\n",
              "      <th>download_avg</th>\n",
              "      <th>upload_avg</th>\n",
              "      <th>download_over_limit</th>\n",
              "      <th>churn</th>\n",
              "    </tr>\n",
              "  </thead>\n",
              "  <tbody>\n",
              "    <tr>\n",
              "      <th>0</th>\n",
              "      <td>15</td>\n",
              "      <td>1</td>\n",
              "      <td>0</td>\n",
              "      <td>11.95</td>\n",
              "      <td>25</td>\n",
              "      <td>0.14</td>\n",
              "      <td>0</td>\n",
              "      <td>8.4</td>\n",
              "      <td>2.3</td>\n",
              "      <td>0</td>\n",
              "      <td>0</td>\n",
              "    </tr>\n",
              "    <tr>\n",
              "      <th>1</th>\n",
              "      <td>18</td>\n",
              "      <td>0</td>\n",
              "      <td>0</td>\n",
              "      <td>8.22</td>\n",
              "      <td>0</td>\n",
              "      <td>NaN</td>\n",
              "      <td>0</td>\n",
              "      <td>0.0</td>\n",
              "      <td>0.0</td>\n",
              "      <td>0</td>\n",
              "      <td>1</td>\n",
              "    </tr>\n",
              "    <tr>\n",
              "      <th>2</th>\n",
              "      <td>23</td>\n",
              "      <td>1</td>\n",
              "      <td>0</td>\n",
              "      <td>8.91</td>\n",
              "      <td>16</td>\n",
              "      <td>0.00</td>\n",
              "      <td>0</td>\n",
              "      <td>13.7</td>\n",
              "      <td>0.9</td>\n",
              "      <td>0</td>\n",
              "      <td>1</td>\n",
              "    </tr>\n",
              "    <tr>\n",
              "      <th>3</th>\n",
              "      <td>27</td>\n",
              "      <td>0</td>\n",
              "      <td>0</td>\n",
              "      <td>6.87</td>\n",
              "      <td>21</td>\n",
              "      <td>NaN</td>\n",
              "      <td>1</td>\n",
              "      <td>0.0</td>\n",
              "      <td>0.0</td>\n",
              "      <td>0</td>\n",
              "      <td>1</td>\n",
              "    </tr>\n",
              "    <tr>\n",
              "      <th>4</th>\n",
              "      <td>34</td>\n",
              "      <td>0</td>\n",
              "      <td>0</td>\n",
              "      <td>6.39</td>\n",
              "      <td>0</td>\n",
              "      <td>NaN</td>\n",
              "      <td>0</td>\n",
              "      <td>0.0</td>\n",
              "      <td>0.0</td>\n",
              "      <td>0</td>\n",
              "      <td>1</td>\n",
              "    </tr>\n",
              "    <tr>\n",
              "      <th>...</th>\n",
              "      <td>...</td>\n",
              "      <td>...</td>\n",
              "      <td>...</td>\n",
              "      <td>...</td>\n",
              "      <td>...</td>\n",
              "      <td>...</td>\n",
              "      <td>...</td>\n",
              "      <td>...</td>\n",
              "      <td>...</td>\n",
              "      <td>...</td>\n",
              "      <td>...</td>\n",
              "    </tr>\n",
              "    <tr>\n",
              "      <th>72269</th>\n",
              "      <td>1689648</td>\n",
              "      <td>1</td>\n",
              "      <td>1</td>\n",
              "      <td>0.09</td>\n",
              "      <td>0</td>\n",
              "      <td>1.25</td>\n",
              "      <td>0</td>\n",
              "      <td>0.0</td>\n",
              "      <td>0.0</td>\n",
              "      <td>0</td>\n",
              "      <td>1</td>\n",
              "    </tr>\n",
              "    <tr>\n",
              "      <th>72270</th>\n",
              "      <td>1689676</td>\n",
              "      <td>1</td>\n",
              "      <td>0</td>\n",
              "      <td>0.06</td>\n",
              "      <td>1</td>\n",
              "      <td>1.63</td>\n",
              "      <td>0</td>\n",
              "      <td>0.8</td>\n",
              "      <td>0.0</td>\n",
              "      <td>0</td>\n",
              "      <td>1</td>\n",
              "    </tr>\n",
              "    <tr>\n",
              "      <th>72271</th>\n",
              "      <td>1689679</td>\n",
              "      <td>1</td>\n",
              "      <td>0</td>\n",
              "      <td>0.02</td>\n",
              "      <td>0</td>\n",
              "      <td>2.19</td>\n",
              "      <td>0</td>\n",
              "      <td>1.5</td>\n",
              "      <td>0.2</td>\n",
              "      <td>0</td>\n",
              "      <td>1</td>\n",
              "    </tr>\n",
              "    <tr>\n",
              "      <th>72272</th>\n",
              "      <td>1689733</td>\n",
              "      <td>0</td>\n",
              "      <td>0</td>\n",
              "      <td>0.01</td>\n",
              "      <td>0</td>\n",
              "      <td>0.72</td>\n",
              "      <td>0</td>\n",
              "      <td>0.0</td>\n",
              "      <td>0.0</td>\n",
              "      <td>0</td>\n",
              "      <td>1</td>\n",
              "    </tr>\n",
              "    <tr>\n",
              "      <th>72273</th>\n",
              "      <td>1689744</td>\n",
              "      <td>1</td>\n",
              "      <td>1</td>\n",
              "      <td>0.01</td>\n",
              "      <td>0</td>\n",
              "      <td>0.82</td>\n",
              "      <td>0</td>\n",
              "      <td>0.0</td>\n",
              "      <td>0.0</td>\n",
              "      <td>0</td>\n",
              "      <td>1</td>\n",
              "    </tr>\n",
              "  </tbody>\n",
              "</table>\n",
              "<p>72274 rows × 11 columns</p>\n",
              "</div>\n",
              "      <button class=\"colab-df-convert\" onclick=\"convertToInteractive('df-2010204f-a0f8-4f8a-9d7e-d720cfc5bd25')\"\n",
              "              title=\"Convert this dataframe to an interactive table.\"\n",
              "              style=\"display:none;\">\n",
              "        \n",
              "  <svg xmlns=\"http://www.w3.org/2000/svg\" height=\"24px\"viewBox=\"0 0 24 24\"\n",
              "       width=\"24px\">\n",
              "    <path d=\"M0 0h24v24H0V0z\" fill=\"none\"/>\n",
              "    <path d=\"M18.56 5.44l.94 2.06.94-2.06 2.06-.94-2.06-.94-.94-2.06-.94 2.06-2.06.94zm-11 1L8.5 8.5l.94-2.06 2.06-.94-2.06-.94L8.5 2.5l-.94 2.06-2.06.94zm10 10l.94 2.06.94-2.06 2.06-.94-2.06-.94-.94-2.06-.94 2.06-2.06.94z\"/><path d=\"M17.41 7.96l-1.37-1.37c-.4-.4-.92-.59-1.43-.59-.52 0-1.04.2-1.43.59L10.3 9.45l-7.72 7.72c-.78.78-.78 2.05 0 2.83L4 21.41c.39.39.9.59 1.41.59.51 0 1.02-.2 1.41-.59l7.78-7.78 2.81-2.81c.8-.78.8-2.07 0-2.86zM5.41 20L4 18.59l7.72-7.72 1.47 1.35L5.41 20z\"/>\n",
              "  </svg>\n",
              "      </button>\n",
              "      \n",
              "  <style>\n",
              "    .colab-df-container {\n",
              "      display:flex;\n",
              "      flex-wrap:wrap;\n",
              "      gap: 12px;\n",
              "    }\n",
              "\n",
              "    .colab-df-convert {\n",
              "      background-color: #E8F0FE;\n",
              "      border: none;\n",
              "      border-radius: 50%;\n",
              "      cursor: pointer;\n",
              "      display: none;\n",
              "      fill: #1967D2;\n",
              "      height: 32px;\n",
              "      padding: 0 0 0 0;\n",
              "      width: 32px;\n",
              "    }\n",
              "\n",
              "    .colab-df-convert:hover {\n",
              "      background-color: #E2EBFA;\n",
              "      box-shadow: 0px 1px 2px rgba(60, 64, 67, 0.3), 0px 1px 3px 1px rgba(60, 64, 67, 0.15);\n",
              "      fill: #174EA6;\n",
              "    }\n",
              "\n",
              "    [theme=dark] .colab-df-convert {\n",
              "      background-color: #3B4455;\n",
              "      fill: #D2E3FC;\n",
              "    }\n",
              "\n",
              "    [theme=dark] .colab-df-convert:hover {\n",
              "      background-color: #434B5C;\n",
              "      box-shadow: 0px 1px 3px 1px rgba(0, 0, 0, 0.15);\n",
              "      filter: drop-shadow(0px 1px 2px rgba(0, 0, 0, 0.3));\n",
              "      fill: #FFFFFF;\n",
              "    }\n",
              "  </style>\n",
              "\n",
              "      <script>\n",
              "        const buttonEl =\n",
              "          document.querySelector('#df-2010204f-a0f8-4f8a-9d7e-d720cfc5bd25 button.colab-df-convert');\n",
              "        buttonEl.style.display =\n",
              "          google.colab.kernel.accessAllowed ? 'block' : 'none';\n",
              "\n",
              "        async function convertToInteractive(key) {\n",
              "          const element = document.querySelector('#df-2010204f-a0f8-4f8a-9d7e-d720cfc5bd25');\n",
              "          const dataTable =\n",
              "            await google.colab.kernel.invokeFunction('convertToInteractive',\n",
              "                                                     [key], {});\n",
              "          if (!dataTable) return;\n",
              "\n",
              "          const docLinkHtml = 'Like what you see? Visit the ' +\n",
              "            '<a target=\"_blank\" href=https://colab.research.google.com/notebooks/data_table.ipynb>data table notebook</a>'\n",
              "            + ' to learn more about interactive tables.';\n",
              "          element.innerHTML = '';\n",
              "          dataTable['output_type'] = 'display_data';\n",
              "          await google.colab.output.renderOutput(dataTable, element);\n",
              "          const docLink = document.createElement('div');\n",
              "          docLink.innerHTML = docLinkHtml;\n",
              "          element.appendChild(docLink);\n",
              "        }\n",
              "      </script>\n",
              "    </div>\n",
              "  </div>\n",
              "  "
            ]
          },
          "metadata": {},
          "execution_count": 3
        }
      ],
      "source": [
        "df"
      ]
    },
    {
      "cell_type": "code",
      "execution_count": null,
      "metadata": {
        "colab": {
          "base_uri": "https://localhost:8080/"
        },
        "id": "q2C2A25Crx_G",
        "outputId": "b1b900eb-5781-47b4-9af9-375ca311bb68"
      },
      "outputs": [
        {
          "output_type": "stream",
          "name": "stdout",
          "text": [
            "<class 'pandas.core.frame.DataFrame'>\n",
            "RangeIndex: 72274 entries, 0 to 72273\n",
            "Data columns (total 11 columns):\n",
            " #   Column                 Non-Null Count  Dtype  \n",
            "---  ------                 --------------  -----  \n",
            " 0   id                     72274 non-null  int64  \n",
            " 1   tv_subscriber          72274 non-null  int64  \n",
            " 2   movie_subscriber       72274 non-null  int64  \n",
            " 3   subscription_age       72274 non-null  float64\n",
            " 4   bill_avg               72274 non-null  int64  \n",
            " 5   remaining_contract     50702 non-null  float64\n",
            " 6   service_failure_count  72274 non-null  int64  \n",
            " 7   download_avg           71893 non-null  float64\n",
            " 8   upload_avg             71893 non-null  float64\n",
            " 9   download_over_limit    72274 non-null  int64  \n",
            " 10  churn                  72274 non-null  int64  \n",
            "dtypes: float64(4), int64(7)\n",
            "memory usage: 6.1 MB\n"
          ]
        }
      ],
      "source": [
        "df.info()"
      ]
    },
    {
      "cell_type": "code",
      "execution_count": null,
      "metadata": {
        "colab": {
          "base_uri": "https://localhost:8080/"
        },
        "id": "6A8kFgOWAq06",
        "outputId": "c98b59d6-f6e9-46ad-bded-1c097ba1ca46"
      },
      "outputs": [
        {
          "output_type": "execute_result",
          "data": {
            "text/plain": [
              "id                       72274\n",
              "tv_subscriber                2\n",
              "movie_subscriber             2\n",
              "subscription_age          1110\n",
              "bill_avg                   179\n",
              "remaining_contract         247\n",
              "service_failure_count       19\n",
              "download_avg              2856\n",
              "upload_avg                 802\n",
              "download_over_limit          8\n",
              "churn                        2\n",
              "dtype: int64"
            ]
          },
          "metadata": {},
          "execution_count": 5
        }
      ],
      "source": [
        "df.nunique()"
      ]
    },
    {
      "cell_type": "markdown",
      "source": [
        "# **Data Cleaning**"
      ],
      "metadata": {
        "id": "usQ-OOJepft-"
      }
    },
    {
      "cell_type": "code",
      "execution_count": 3,
      "metadata": {
        "id": "_jCElrauv-_O"
      },
      "outputs": [],
      "source": [
        "del df['id']"
      ]
    },
    {
      "cell_type": "code",
      "execution_count": 4,
      "metadata": {
        "colab": {
          "base_uri": "https://localhost:8080/",
          "height": 424
        },
        "id": "2Vma8r7jDiQi",
        "outputId": "c076ee70-5f17-4c3d-a236-dce2e792dc92"
      },
      "outputs": [
        {
          "output_type": "execute_result",
          "data": {
            "text/plain": [
              "       tv_subscriber  movie_subscriber  subscription_age  bill_avg  \\\n",
              "0                  1                 0             11.95        25   \n",
              "1                  0                 0              8.22         0   \n",
              "2                  1                 0              8.91        16   \n",
              "3                  0                 0              6.87        21   \n",
              "4                  0                 0              6.39         0   \n",
              "...              ...               ...               ...       ...   \n",
              "72269              1                 1              0.09         0   \n",
              "72270              1                 0              0.06         1   \n",
              "72271              1                 0              0.02         0   \n",
              "72272              0                 0              0.01         0   \n",
              "72273              1                 1              0.01         0   \n",
              "\n",
              "       remaining_contract  service_failure_count  download_avg  upload_avg  \\\n",
              "0                    0.14                      0           8.4         2.3   \n",
              "1                     NaN                      0           0.0         0.0   \n",
              "2                    0.00                      0          13.7         0.9   \n",
              "3                     NaN                      1           0.0         0.0   \n",
              "4                     NaN                      0           0.0         0.0   \n",
              "...                   ...                    ...           ...         ...   \n",
              "72269                1.25                      0           0.0         0.0   \n",
              "72270                1.63                      0           0.8         0.0   \n",
              "72271                2.19                      0           1.5         0.2   \n",
              "72272                0.72                      0           0.0         0.0   \n",
              "72273                0.82                      0           0.0         0.0   \n",
              "\n",
              "       download_over_limit  churn  \n",
              "0                        0      0  \n",
              "1                        0      1  \n",
              "2                        0      1  \n",
              "3                        0      1  \n",
              "4                        0      1  \n",
              "...                    ...    ...  \n",
              "72269                    0      1  \n",
              "72270                    0      1  \n",
              "72271                    0      1  \n",
              "72272                    0      1  \n",
              "72273                    0      1  \n",
              "\n",
              "[70125 rows x 10 columns]"
            ],
            "text/html": [
              "\n",
              "  <div id=\"df-ad5fb523-712e-4ed8-bb1b-e42d18fa4dcf\">\n",
              "    <div class=\"colab-df-container\">\n",
              "      <div>\n",
              "<style scoped>\n",
              "    .dataframe tbody tr th:only-of-type {\n",
              "        vertical-align: middle;\n",
              "    }\n",
              "\n",
              "    .dataframe tbody tr th {\n",
              "        vertical-align: top;\n",
              "    }\n",
              "\n",
              "    .dataframe thead th {\n",
              "        text-align: right;\n",
              "    }\n",
              "</style>\n",
              "<table border=\"1\" class=\"dataframe\">\n",
              "  <thead>\n",
              "    <tr style=\"text-align: right;\">\n",
              "      <th></th>\n",
              "      <th>tv_subscriber</th>\n",
              "      <th>movie_subscriber</th>\n",
              "      <th>subscription_age</th>\n",
              "      <th>bill_avg</th>\n",
              "      <th>remaining_contract</th>\n",
              "      <th>service_failure_count</th>\n",
              "      <th>download_avg</th>\n",
              "      <th>upload_avg</th>\n",
              "      <th>download_over_limit</th>\n",
              "      <th>churn</th>\n",
              "    </tr>\n",
              "  </thead>\n",
              "  <tbody>\n",
              "    <tr>\n",
              "      <th>0</th>\n",
              "      <td>1</td>\n",
              "      <td>0</td>\n",
              "      <td>11.95</td>\n",
              "      <td>25</td>\n",
              "      <td>0.14</td>\n",
              "      <td>0</td>\n",
              "      <td>8.4</td>\n",
              "      <td>2.3</td>\n",
              "      <td>0</td>\n",
              "      <td>0</td>\n",
              "    </tr>\n",
              "    <tr>\n",
              "      <th>1</th>\n",
              "      <td>0</td>\n",
              "      <td>0</td>\n",
              "      <td>8.22</td>\n",
              "      <td>0</td>\n",
              "      <td>NaN</td>\n",
              "      <td>0</td>\n",
              "      <td>0.0</td>\n",
              "      <td>0.0</td>\n",
              "      <td>0</td>\n",
              "      <td>1</td>\n",
              "    </tr>\n",
              "    <tr>\n",
              "      <th>2</th>\n",
              "      <td>1</td>\n",
              "      <td>0</td>\n",
              "      <td>8.91</td>\n",
              "      <td>16</td>\n",
              "      <td>0.00</td>\n",
              "      <td>0</td>\n",
              "      <td>13.7</td>\n",
              "      <td>0.9</td>\n",
              "      <td>0</td>\n",
              "      <td>1</td>\n",
              "    </tr>\n",
              "    <tr>\n",
              "      <th>3</th>\n",
              "      <td>0</td>\n",
              "      <td>0</td>\n",
              "      <td>6.87</td>\n",
              "      <td>21</td>\n",
              "      <td>NaN</td>\n",
              "      <td>1</td>\n",
              "      <td>0.0</td>\n",
              "      <td>0.0</td>\n",
              "      <td>0</td>\n",
              "      <td>1</td>\n",
              "    </tr>\n",
              "    <tr>\n",
              "      <th>4</th>\n",
              "      <td>0</td>\n",
              "      <td>0</td>\n",
              "      <td>6.39</td>\n",
              "      <td>0</td>\n",
              "      <td>NaN</td>\n",
              "      <td>0</td>\n",
              "      <td>0.0</td>\n",
              "      <td>0.0</td>\n",
              "      <td>0</td>\n",
              "      <td>1</td>\n",
              "    </tr>\n",
              "    <tr>\n",
              "      <th>...</th>\n",
              "      <td>...</td>\n",
              "      <td>...</td>\n",
              "      <td>...</td>\n",
              "      <td>...</td>\n",
              "      <td>...</td>\n",
              "      <td>...</td>\n",
              "      <td>...</td>\n",
              "      <td>...</td>\n",
              "      <td>...</td>\n",
              "      <td>...</td>\n",
              "    </tr>\n",
              "    <tr>\n",
              "      <th>72269</th>\n",
              "      <td>1</td>\n",
              "      <td>1</td>\n",
              "      <td>0.09</td>\n",
              "      <td>0</td>\n",
              "      <td>1.25</td>\n",
              "      <td>0</td>\n",
              "      <td>0.0</td>\n",
              "      <td>0.0</td>\n",
              "      <td>0</td>\n",
              "      <td>1</td>\n",
              "    </tr>\n",
              "    <tr>\n",
              "      <th>72270</th>\n",
              "      <td>1</td>\n",
              "      <td>0</td>\n",
              "      <td>0.06</td>\n",
              "      <td>1</td>\n",
              "      <td>1.63</td>\n",
              "      <td>0</td>\n",
              "      <td>0.8</td>\n",
              "      <td>0.0</td>\n",
              "      <td>0</td>\n",
              "      <td>1</td>\n",
              "    </tr>\n",
              "    <tr>\n",
              "      <th>72271</th>\n",
              "      <td>1</td>\n",
              "      <td>0</td>\n",
              "      <td>0.02</td>\n",
              "      <td>0</td>\n",
              "      <td>2.19</td>\n",
              "      <td>0</td>\n",
              "      <td>1.5</td>\n",
              "      <td>0.2</td>\n",
              "      <td>0</td>\n",
              "      <td>1</td>\n",
              "    </tr>\n",
              "    <tr>\n",
              "      <th>72272</th>\n",
              "      <td>0</td>\n",
              "      <td>0</td>\n",
              "      <td>0.01</td>\n",
              "      <td>0</td>\n",
              "      <td>0.72</td>\n",
              "      <td>0</td>\n",
              "      <td>0.0</td>\n",
              "      <td>0.0</td>\n",
              "      <td>0</td>\n",
              "      <td>1</td>\n",
              "    </tr>\n",
              "    <tr>\n",
              "      <th>72273</th>\n",
              "      <td>1</td>\n",
              "      <td>1</td>\n",
              "      <td>0.01</td>\n",
              "      <td>0</td>\n",
              "      <td>0.82</td>\n",
              "      <td>0</td>\n",
              "      <td>0.0</td>\n",
              "      <td>0.0</td>\n",
              "      <td>0</td>\n",
              "      <td>1</td>\n",
              "    </tr>\n",
              "  </tbody>\n",
              "</table>\n",
              "<p>70125 rows × 10 columns</p>\n",
              "</div>\n",
              "      <button class=\"colab-df-convert\" onclick=\"convertToInteractive('df-ad5fb523-712e-4ed8-bb1b-e42d18fa4dcf')\"\n",
              "              title=\"Convert this dataframe to an interactive table.\"\n",
              "              style=\"display:none;\">\n",
              "        \n",
              "  <svg xmlns=\"http://www.w3.org/2000/svg\" height=\"24px\"viewBox=\"0 0 24 24\"\n",
              "       width=\"24px\">\n",
              "    <path d=\"M0 0h24v24H0V0z\" fill=\"none\"/>\n",
              "    <path d=\"M18.56 5.44l.94 2.06.94-2.06 2.06-.94-2.06-.94-.94-2.06-.94 2.06-2.06.94zm-11 1L8.5 8.5l.94-2.06 2.06-.94-2.06-.94L8.5 2.5l-.94 2.06-2.06.94zm10 10l.94 2.06.94-2.06 2.06-.94-2.06-.94-.94-2.06-.94 2.06-2.06.94z\"/><path d=\"M17.41 7.96l-1.37-1.37c-.4-.4-.92-.59-1.43-.59-.52 0-1.04.2-1.43.59L10.3 9.45l-7.72 7.72c-.78.78-.78 2.05 0 2.83L4 21.41c.39.39.9.59 1.41.59.51 0 1.02-.2 1.41-.59l7.78-7.78 2.81-2.81c.8-.78.8-2.07 0-2.86zM5.41 20L4 18.59l7.72-7.72 1.47 1.35L5.41 20z\"/>\n",
              "  </svg>\n",
              "      </button>\n",
              "      \n",
              "  <style>\n",
              "    .colab-df-container {\n",
              "      display:flex;\n",
              "      flex-wrap:wrap;\n",
              "      gap: 12px;\n",
              "    }\n",
              "\n",
              "    .colab-df-convert {\n",
              "      background-color: #E8F0FE;\n",
              "      border: none;\n",
              "      border-radius: 50%;\n",
              "      cursor: pointer;\n",
              "      display: none;\n",
              "      fill: #1967D2;\n",
              "      height: 32px;\n",
              "      padding: 0 0 0 0;\n",
              "      width: 32px;\n",
              "    }\n",
              "\n",
              "    .colab-df-convert:hover {\n",
              "      background-color: #E2EBFA;\n",
              "      box-shadow: 0px 1px 2px rgba(60, 64, 67, 0.3), 0px 1px 3px 1px rgba(60, 64, 67, 0.15);\n",
              "      fill: #174EA6;\n",
              "    }\n",
              "\n",
              "    [theme=dark] .colab-df-convert {\n",
              "      background-color: #3B4455;\n",
              "      fill: #D2E3FC;\n",
              "    }\n",
              "\n",
              "    [theme=dark] .colab-df-convert:hover {\n",
              "      background-color: #434B5C;\n",
              "      box-shadow: 0px 1px 3px 1px rgba(0, 0, 0, 0.15);\n",
              "      filter: drop-shadow(0px 1px 2px rgba(0, 0, 0, 0.3));\n",
              "      fill: #FFFFFF;\n",
              "    }\n",
              "  </style>\n",
              "\n",
              "      <script>\n",
              "        const buttonEl =\n",
              "          document.querySelector('#df-ad5fb523-712e-4ed8-bb1b-e42d18fa4dcf button.colab-df-convert');\n",
              "        buttonEl.style.display =\n",
              "          google.colab.kernel.accessAllowed ? 'block' : 'none';\n",
              "\n",
              "        async function convertToInteractive(key) {\n",
              "          const element = document.querySelector('#df-ad5fb523-712e-4ed8-bb1b-e42d18fa4dcf');\n",
              "          const dataTable =\n",
              "            await google.colab.kernel.invokeFunction('convertToInteractive',\n",
              "                                                     [key], {});\n",
              "          if (!dataTable) return;\n",
              "\n",
              "          const docLinkHtml = 'Like what you see? Visit the ' +\n",
              "            '<a target=\"_blank\" href=https://colab.research.google.com/notebooks/data_table.ipynb>data table notebook</a>'\n",
              "            + ' to learn more about interactive tables.';\n",
              "          element.innerHTML = '';\n",
              "          dataTable['output_type'] = 'display_data';\n",
              "          await google.colab.output.renderOutput(dataTable, element);\n",
              "          const docLink = document.createElement('div');\n",
              "          docLink.innerHTML = docLinkHtml;\n",
              "          element.appendChild(docLink);\n",
              "        }\n",
              "      </script>\n",
              "    </div>\n",
              "  </div>\n",
              "  "
            ]
          },
          "metadata": {},
          "execution_count": 4
        }
      ],
      "source": [
        "df=df.drop_duplicates()\n",
        "df"
      ]
    },
    {
      "cell_type": "code",
      "execution_count": 5,
      "metadata": {
        "id": "Q6W28ghjr-HJ"
      },
      "outputs": [],
      "source": [
        "df.dropna(subset=['download_avg','upload_avg'], how='any', inplace=True)"
      ]
    },
    {
      "cell_type": "code",
      "execution_count": 6,
      "metadata": {
        "id": "ZEupmobSsTJO"
      },
      "outputs": [],
      "source": [
        "df['remaining_contract'] = df['remaining_contract'].fillna(0)"
      ]
    },
    {
      "cell_type": "code",
      "execution_count": null,
      "metadata": {
        "colab": {
          "base_uri": "https://localhost:8080/"
        },
        "id": "oxfpHsekssiS",
        "outputId": "343c2c63-a9f1-4a40-f249-d3802e07d079"
      },
      "outputs": [
        {
          "output_type": "stream",
          "name": "stdout",
          "text": [
            "<class 'pandas.core.frame.DataFrame'>\n",
            "Int64Index: 69940 entries, 0 to 72273\n",
            "Data columns (total 10 columns):\n",
            " #   Column                 Non-Null Count  Dtype  \n",
            "---  ------                 --------------  -----  \n",
            " 0   tv_subscriber          69940 non-null  int64  \n",
            " 1   movie_subscriber       69940 non-null  int64  \n",
            " 2   subscription_age       69940 non-null  float64\n",
            " 3   bill_avg               69940 non-null  int64  \n",
            " 4   remaining_contract     69940 non-null  float64\n",
            " 5   service_failure_count  69940 non-null  int64  \n",
            " 6   download_avg           69940 non-null  float64\n",
            " 7   upload_avg             69940 non-null  float64\n",
            " 8   download_over_limit    69940 non-null  int64  \n",
            " 9   churn                  69940 non-null  int64  \n",
            "dtypes: float64(4), int64(6)\n",
            "memory usage: 5.9 MB\n"
          ]
        }
      ],
      "source": [
        "df.info()"
      ]
    },
    {
      "cell_type": "code",
      "execution_count": 7,
      "metadata": {
        "colab": {
          "base_uri": "https://localhost:8080/",
          "height": 455
        },
        "id": "_OXJ-Tyct3qa",
        "outputId": "d876d1a7-9b75-4335-b570-d92ba24ae72a"
      },
      "outputs": [
        {
          "output_type": "execute_result",
          "data": {
            "text/plain": [
              "       tv_subscriber  movie_subscriber  subscription_age  bill_avg  \\\n",
              "User                                                                 \n",
              "1                  1                 0             11.95        25   \n",
              "2                  0                 0              8.22         0   \n",
              "3                  1                 0              8.91        16   \n",
              "4                  0                 0              6.87        21   \n",
              "5                  0                 0              6.39         0   \n",
              "...              ...               ...               ...       ...   \n",
              "69936              1                 1              0.09         0   \n",
              "69937              1                 0              0.06         1   \n",
              "69938              1                 0              0.02         0   \n",
              "69939              0                 0              0.01         0   \n",
              "69940              1                 1              0.01         0   \n",
              "\n",
              "       remaining_contract  service_failure_count  download_avg  upload_avg  \\\n",
              "User                                                                         \n",
              "1                    0.14                      0           8.4         2.3   \n",
              "2                    0.00                      0           0.0         0.0   \n",
              "3                    0.00                      0          13.7         0.9   \n",
              "4                    0.00                      1           0.0         0.0   \n",
              "5                    0.00                      0           0.0         0.0   \n",
              "...                   ...                    ...           ...         ...   \n",
              "69936                1.25                      0           0.0         0.0   \n",
              "69937                1.63                      0           0.8         0.0   \n",
              "69938                2.19                      0           1.5         0.2   \n",
              "69939                0.72                      0           0.0         0.0   \n",
              "69940                0.82                      0           0.0         0.0   \n",
              "\n",
              "       download_over_limit  churn  \n",
              "User                               \n",
              "1                        0      0  \n",
              "2                        0      1  \n",
              "3                        0      1  \n",
              "4                        0      1  \n",
              "5                        0      1  \n",
              "...                    ...    ...  \n",
              "69936                    0      1  \n",
              "69937                    0      1  \n",
              "69938                    0      1  \n",
              "69939                    0      1  \n",
              "69940                    0      1  \n",
              "\n",
              "[69940 rows x 10 columns]"
            ],
            "text/html": [
              "\n",
              "  <div id=\"df-ba0f8e2f-1ab2-41cf-b81a-f33577f0ba71\">\n",
              "    <div class=\"colab-df-container\">\n",
              "      <div>\n",
              "<style scoped>\n",
              "    .dataframe tbody tr th:only-of-type {\n",
              "        vertical-align: middle;\n",
              "    }\n",
              "\n",
              "    .dataframe tbody tr th {\n",
              "        vertical-align: top;\n",
              "    }\n",
              "\n",
              "    .dataframe thead th {\n",
              "        text-align: right;\n",
              "    }\n",
              "</style>\n",
              "<table border=\"1\" class=\"dataframe\">\n",
              "  <thead>\n",
              "    <tr style=\"text-align: right;\">\n",
              "      <th></th>\n",
              "      <th>tv_subscriber</th>\n",
              "      <th>movie_subscriber</th>\n",
              "      <th>subscription_age</th>\n",
              "      <th>bill_avg</th>\n",
              "      <th>remaining_contract</th>\n",
              "      <th>service_failure_count</th>\n",
              "      <th>download_avg</th>\n",
              "      <th>upload_avg</th>\n",
              "      <th>download_over_limit</th>\n",
              "      <th>churn</th>\n",
              "    </tr>\n",
              "    <tr>\n",
              "      <th>User</th>\n",
              "      <th></th>\n",
              "      <th></th>\n",
              "      <th></th>\n",
              "      <th></th>\n",
              "      <th></th>\n",
              "      <th></th>\n",
              "      <th></th>\n",
              "      <th></th>\n",
              "      <th></th>\n",
              "      <th></th>\n",
              "    </tr>\n",
              "  </thead>\n",
              "  <tbody>\n",
              "    <tr>\n",
              "      <th>1</th>\n",
              "      <td>1</td>\n",
              "      <td>0</td>\n",
              "      <td>11.95</td>\n",
              "      <td>25</td>\n",
              "      <td>0.14</td>\n",
              "      <td>0</td>\n",
              "      <td>8.4</td>\n",
              "      <td>2.3</td>\n",
              "      <td>0</td>\n",
              "      <td>0</td>\n",
              "    </tr>\n",
              "    <tr>\n",
              "      <th>2</th>\n",
              "      <td>0</td>\n",
              "      <td>0</td>\n",
              "      <td>8.22</td>\n",
              "      <td>0</td>\n",
              "      <td>0.00</td>\n",
              "      <td>0</td>\n",
              "      <td>0.0</td>\n",
              "      <td>0.0</td>\n",
              "      <td>0</td>\n",
              "      <td>1</td>\n",
              "    </tr>\n",
              "    <tr>\n",
              "      <th>3</th>\n",
              "      <td>1</td>\n",
              "      <td>0</td>\n",
              "      <td>8.91</td>\n",
              "      <td>16</td>\n",
              "      <td>0.00</td>\n",
              "      <td>0</td>\n",
              "      <td>13.7</td>\n",
              "      <td>0.9</td>\n",
              "      <td>0</td>\n",
              "      <td>1</td>\n",
              "    </tr>\n",
              "    <tr>\n",
              "      <th>4</th>\n",
              "      <td>0</td>\n",
              "      <td>0</td>\n",
              "      <td>6.87</td>\n",
              "      <td>21</td>\n",
              "      <td>0.00</td>\n",
              "      <td>1</td>\n",
              "      <td>0.0</td>\n",
              "      <td>0.0</td>\n",
              "      <td>0</td>\n",
              "      <td>1</td>\n",
              "    </tr>\n",
              "    <tr>\n",
              "      <th>5</th>\n",
              "      <td>0</td>\n",
              "      <td>0</td>\n",
              "      <td>6.39</td>\n",
              "      <td>0</td>\n",
              "      <td>0.00</td>\n",
              "      <td>0</td>\n",
              "      <td>0.0</td>\n",
              "      <td>0.0</td>\n",
              "      <td>0</td>\n",
              "      <td>1</td>\n",
              "    </tr>\n",
              "    <tr>\n",
              "      <th>...</th>\n",
              "      <td>...</td>\n",
              "      <td>...</td>\n",
              "      <td>...</td>\n",
              "      <td>...</td>\n",
              "      <td>...</td>\n",
              "      <td>...</td>\n",
              "      <td>...</td>\n",
              "      <td>...</td>\n",
              "      <td>...</td>\n",
              "      <td>...</td>\n",
              "    </tr>\n",
              "    <tr>\n",
              "      <th>69936</th>\n",
              "      <td>1</td>\n",
              "      <td>1</td>\n",
              "      <td>0.09</td>\n",
              "      <td>0</td>\n",
              "      <td>1.25</td>\n",
              "      <td>0</td>\n",
              "      <td>0.0</td>\n",
              "      <td>0.0</td>\n",
              "      <td>0</td>\n",
              "      <td>1</td>\n",
              "    </tr>\n",
              "    <tr>\n",
              "      <th>69937</th>\n",
              "      <td>1</td>\n",
              "      <td>0</td>\n",
              "      <td>0.06</td>\n",
              "      <td>1</td>\n",
              "      <td>1.63</td>\n",
              "      <td>0</td>\n",
              "      <td>0.8</td>\n",
              "      <td>0.0</td>\n",
              "      <td>0</td>\n",
              "      <td>1</td>\n",
              "    </tr>\n",
              "    <tr>\n",
              "      <th>69938</th>\n",
              "      <td>1</td>\n",
              "      <td>0</td>\n",
              "      <td>0.02</td>\n",
              "      <td>0</td>\n",
              "      <td>2.19</td>\n",
              "      <td>0</td>\n",
              "      <td>1.5</td>\n",
              "      <td>0.2</td>\n",
              "      <td>0</td>\n",
              "      <td>1</td>\n",
              "    </tr>\n",
              "    <tr>\n",
              "      <th>69939</th>\n",
              "      <td>0</td>\n",
              "      <td>0</td>\n",
              "      <td>0.01</td>\n",
              "      <td>0</td>\n",
              "      <td>0.72</td>\n",
              "      <td>0</td>\n",
              "      <td>0.0</td>\n",
              "      <td>0.0</td>\n",
              "      <td>0</td>\n",
              "      <td>1</td>\n",
              "    </tr>\n",
              "    <tr>\n",
              "      <th>69940</th>\n",
              "      <td>1</td>\n",
              "      <td>1</td>\n",
              "      <td>0.01</td>\n",
              "      <td>0</td>\n",
              "      <td>0.82</td>\n",
              "      <td>0</td>\n",
              "      <td>0.0</td>\n",
              "      <td>0.0</td>\n",
              "      <td>0</td>\n",
              "      <td>1</td>\n",
              "    </tr>\n",
              "  </tbody>\n",
              "</table>\n",
              "<p>69940 rows × 10 columns</p>\n",
              "</div>\n",
              "      <button class=\"colab-df-convert\" onclick=\"convertToInteractive('df-ba0f8e2f-1ab2-41cf-b81a-f33577f0ba71')\"\n",
              "              title=\"Convert this dataframe to an interactive table.\"\n",
              "              style=\"display:none;\">\n",
              "        \n",
              "  <svg xmlns=\"http://www.w3.org/2000/svg\" height=\"24px\"viewBox=\"0 0 24 24\"\n",
              "       width=\"24px\">\n",
              "    <path d=\"M0 0h24v24H0V0z\" fill=\"none\"/>\n",
              "    <path d=\"M18.56 5.44l.94 2.06.94-2.06 2.06-.94-2.06-.94-.94-2.06-.94 2.06-2.06.94zm-11 1L8.5 8.5l.94-2.06 2.06-.94-2.06-.94L8.5 2.5l-.94 2.06-2.06.94zm10 10l.94 2.06.94-2.06 2.06-.94-2.06-.94-.94-2.06-.94 2.06-2.06.94z\"/><path d=\"M17.41 7.96l-1.37-1.37c-.4-.4-.92-.59-1.43-.59-.52 0-1.04.2-1.43.59L10.3 9.45l-7.72 7.72c-.78.78-.78 2.05 0 2.83L4 21.41c.39.39.9.59 1.41.59.51 0 1.02-.2 1.41-.59l7.78-7.78 2.81-2.81c.8-.78.8-2.07 0-2.86zM5.41 20L4 18.59l7.72-7.72 1.47 1.35L5.41 20z\"/>\n",
              "  </svg>\n",
              "      </button>\n",
              "      \n",
              "  <style>\n",
              "    .colab-df-container {\n",
              "      display:flex;\n",
              "      flex-wrap:wrap;\n",
              "      gap: 12px;\n",
              "    }\n",
              "\n",
              "    .colab-df-convert {\n",
              "      background-color: #E8F0FE;\n",
              "      border: none;\n",
              "      border-radius: 50%;\n",
              "      cursor: pointer;\n",
              "      display: none;\n",
              "      fill: #1967D2;\n",
              "      height: 32px;\n",
              "      padding: 0 0 0 0;\n",
              "      width: 32px;\n",
              "    }\n",
              "\n",
              "    .colab-df-convert:hover {\n",
              "      background-color: #E2EBFA;\n",
              "      box-shadow: 0px 1px 2px rgba(60, 64, 67, 0.3), 0px 1px 3px 1px rgba(60, 64, 67, 0.15);\n",
              "      fill: #174EA6;\n",
              "    }\n",
              "\n",
              "    [theme=dark] .colab-df-convert {\n",
              "      background-color: #3B4455;\n",
              "      fill: #D2E3FC;\n",
              "    }\n",
              "\n",
              "    [theme=dark] .colab-df-convert:hover {\n",
              "      background-color: #434B5C;\n",
              "      box-shadow: 0px 1px 3px 1px rgba(0, 0, 0, 0.15);\n",
              "      filter: drop-shadow(0px 1px 2px rgba(0, 0, 0, 0.3));\n",
              "      fill: #FFFFFF;\n",
              "    }\n",
              "  </style>\n",
              "\n",
              "      <script>\n",
              "        const buttonEl =\n",
              "          document.querySelector('#df-ba0f8e2f-1ab2-41cf-b81a-f33577f0ba71 button.colab-df-convert');\n",
              "        buttonEl.style.display =\n",
              "          google.colab.kernel.accessAllowed ? 'block' : 'none';\n",
              "\n",
              "        async function convertToInteractive(key) {\n",
              "          const element = document.querySelector('#df-ba0f8e2f-1ab2-41cf-b81a-f33577f0ba71');\n",
              "          const dataTable =\n",
              "            await google.colab.kernel.invokeFunction('convertToInteractive',\n",
              "                                                     [key], {});\n",
              "          if (!dataTable) return;\n",
              "\n",
              "          const docLinkHtml = 'Like what you see? Visit the ' +\n",
              "            '<a target=\"_blank\" href=https://colab.research.google.com/notebooks/data_table.ipynb>data table notebook</a>'\n",
              "            + ' to learn more about interactive tables.';\n",
              "          element.innerHTML = '';\n",
              "          dataTable['output_type'] = 'display_data';\n",
              "          await google.colab.output.renderOutput(dataTable, element);\n",
              "          const docLink = document.createElement('div');\n",
              "          docLink.innerHTML = docLinkHtml;\n",
              "          element.appendChild(docLink);\n",
              "        }\n",
              "      </script>\n",
              "    </div>\n",
              "  </div>\n",
              "  "
            ]
          },
          "metadata": {},
          "execution_count": 7
        }
      ],
      "source": [
        "df = df.reset_index()\n",
        "del df['index']\n",
        "df.index.name = 'User'\n",
        "df.index = df.index + 1\n",
        "df"
      ]
    },
    {
      "cell_type": "code",
      "execution_count": null,
      "metadata": {
        "colab": {
          "base_uri": "https://localhost:8080/",
          "height": 300
        },
        "id": "u5Z-aoZztj59",
        "outputId": "d6e3436b-67d3-48d2-dc20-4b79a70d9130"
      },
      "outputs": [
        {
          "output_type": "execute_result",
          "data": {
            "text/plain": [
              "       tv_subscriber  movie_subscriber  subscription_age      bill_avg  \\\n",
              "count   69940.000000      69940.000000      69940.000000  69940.000000   \n",
              "mean        0.824621          0.340177          2.484896     19.262611   \n",
              "std         0.380294          0.473772          2.037549     13.182697   \n",
              "min         0.000000          0.000000         -0.020000      0.000000   \n",
              "25%         1.000000          0.000000          0.950000     13.000000   \n",
              "50%         1.000000          0.000000          1.980000     19.000000   \n",
              "75%         1.000000          1.000000          3.370000     23.000000   \n",
              "max         1.000000          1.000000         12.800000    406.000000   \n",
              "\n",
              "       remaining_contract  service_failure_count  download_avg    upload_avg  \\\n",
              "count        69940.000000           69940.000000  69940.000000  69940.000000   \n",
              "mean             0.511319               0.282771     44.909335      4.309101   \n",
              "std              0.669636               0.828186     63.857882      9.929691   \n",
              "min              0.000000               0.000000      0.000000      0.000000   \n",
              "25%              0.000000               0.000000      8.200000      0.600000   \n",
              "50%              0.000000               0.000000     29.150000      2.200000   \n",
              "75%              1.050000               0.000000     61.800000      5.000000   \n",
              "max              2.920000              19.000000   4415.200000    453.300000   \n",
              "\n",
              "       download_over_limit         churn  \n",
              "count         69940.000000  69940.000000  \n",
              "mean              0.208021      0.544710  \n",
              "std               0.997778      0.498001  \n",
              "min               0.000000      0.000000  \n",
              "25%               0.000000      0.000000  \n",
              "50%               0.000000      1.000000  \n",
              "75%               0.000000      1.000000  \n",
              "max               7.000000      1.000000  "
            ],
            "text/html": [
              "\n",
              "  <div id=\"df-a248cbe2-7ec4-42c2-85ef-ed3614309f52\">\n",
              "    <div class=\"colab-df-container\">\n",
              "      <div>\n",
              "<style scoped>\n",
              "    .dataframe tbody tr th:only-of-type {\n",
              "        vertical-align: middle;\n",
              "    }\n",
              "\n",
              "    .dataframe tbody tr th {\n",
              "        vertical-align: top;\n",
              "    }\n",
              "\n",
              "    .dataframe thead th {\n",
              "        text-align: right;\n",
              "    }\n",
              "</style>\n",
              "<table border=\"1\" class=\"dataframe\">\n",
              "  <thead>\n",
              "    <tr style=\"text-align: right;\">\n",
              "      <th></th>\n",
              "      <th>tv_subscriber</th>\n",
              "      <th>movie_subscriber</th>\n",
              "      <th>subscription_age</th>\n",
              "      <th>bill_avg</th>\n",
              "      <th>remaining_contract</th>\n",
              "      <th>service_failure_count</th>\n",
              "      <th>download_avg</th>\n",
              "      <th>upload_avg</th>\n",
              "      <th>download_over_limit</th>\n",
              "      <th>churn</th>\n",
              "    </tr>\n",
              "  </thead>\n",
              "  <tbody>\n",
              "    <tr>\n",
              "      <th>count</th>\n",
              "      <td>69940.000000</td>\n",
              "      <td>69940.000000</td>\n",
              "      <td>69940.000000</td>\n",
              "      <td>69940.000000</td>\n",
              "      <td>69940.000000</td>\n",
              "      <td>69940.000000</td>\n",
              "      <td>69940.000000</td>\n",
              "      <td>69940.000000</td>\n",
              "      <td>69940.000000</td>\n",
              "      <td>69940.000000</td>\n",
              "    </tr>\n",
              "    <tr>\n",
              "      <th>mean</th>\n",
              "      <td>0.824621</td>\n",
              "      <td>0.340177</td>\n",
              "      <td>2.484896</td>\n",
              "      <td>19.262611</td>\n",
              "      <td>0.511319</td>\n",
              "      <td>0.282771</td>\n",
              "      <td>44.909335</td>\n",
              "      <td>4.309101</td>\n",
              "      <td>0.208021</td>\n",
              "      <td>0.544710</td>\n",
              "    </tr>\n",
              "    <tr>\n",
              "      <th>std</th>\n",
              "      <td>0.380294</td>\n",
              "      <td>0.473772</td>\n",
              "      <td>2.037549</td>\n",
              "      <td>13.182697</td>\n",
              "      <td>0.669636</td>\n",
              "      <td>0.828186</td>\n",
              "      <td>63.857882</td>\n",
              "      <td>9.929691</td>\n",
              "      <td>0.997778</td>\n",
              "      <td>0.498001</td>\n",
              "    </tr>\n",
              "    <tr>\n",
              "      <th>min</th>\n",
              "      <td>0.000000</td>\n",
              "      <td>0.000000</td>\n",
              "      <td>-0.020000</td>\n",
              "      <td>0.000000</td>\n",
              "      <td>0.000000</td>\n",
              "      <td>0.000000</td>\n",
              "      <td>0.000000</td>\n",
              "      <td>0.000000</td>\n",
              "      <td>0.000000</td>\n",
              "      <td>0.000000</td>\n",
              "    </tr>\n",
              "    <tr>\n",
              "      <th>25%</th>\n",
              "      <td>1.000000</td>\n",
              "      <td>0.000000</td>\n",
              "      <td>0.950000</td>\n",
              "      <td>13.000000</td>\n",
              "      <td>0.000000</td>\n",
              "      <td>0.000000</td>\n",
              "      <td>8.200000</td>\n",
              "      <td>0.600000</td>\n",
              "      <td>0.000000</td>\n",
              "      <td>0.000000</td>\n",
              "    </tr>\n",
              "    <tr>\n",
              "      <th>50%</th>\n",
              "      <td>1.000000</td>\n",
              "      <td>0.000000</td>\n",
              "      <td>1.980000</td>\n",
              "      <td>19.000000</td>\n",
              "      <td>0.000000</td>\n",
              "      <td>0.000000</td>\n",
              "      <td>29.150000</td>\n",
              "      <td>2.200000</td>\n",
              "      <td>0.000000</td>\n",
              "      <td>1.000000</td>\n",
              "    </tr>\n",
              "    <tr>\n",
              "      <th>75%</th>\n",
              "      <td>1.000000</td>\n",
              "      <td>1.000000</td>\n",
              "      <td>3.370000</td>\n",
              "      <td>23.000000</td>\n",
              "      <td>1.050000</td>\n",
              "      <td>0.000000</td>\n",
              "      <td>61.800000</td>\n",
              "      <td>5.000000</td>\n",
              "      <td>0.000000</td>\n",
              "      <td>1.000000</td>\n",
              "    </tr>\n",
              "    <tr>\n",
              "      <th>max</th>\n",
              "      <td>1.000000</td>\n",
              "      <td>1.000000</td>\n",
              "      <td>12.800000</td>\n",
              "      <td>406.000000</td>\n",
              "      <td>2.920000</td>\n",
              "      <td>19.000000</td>\n",
              "      <td>4415.200000</td>\n",
              "      <td>453.300000</td>\n",
              "      <td>7.000000</td>\n",
              "      <td>1.000000</td>\n",
              "    </tr>\n",
              "  </tbody>\n",
              "</table>\n",
              "</div>\n",
              "      <button class=\"colab-df-convert\" onclick=\"convertToInteractive('df-a248cbe2-7ec4-42c2-85ef-ed3614309f52')\"\n",
              "              title=\"Convert this dataframe to an interactive table.\"\n",
              "              style=\"display:none;\">\n",
              "        \n",
              "  <svg xmlns=\"http://www.w3.org/2000/svg\" height=\"24px\"viewBox=\"0 0 24 24\"\n",
              "       width=\"24px\">\n",
              "    <path d=\"M0 0h24v24H0V0z\" fill=\"none\"/>\n",
              "    <path d=\"M18.56 5.44l.94 2.06.94-2.06 2.06-.94-2.06-.94-.94-2.06-.94 2.06-2.06.94zm-11 1L8.5 8.5l.94-2.06 2.06-.94-2.06-.94L8.5 2.5l-.94 2.06-2.06.94zm10 10l.94 2.06.94-2.06 2.06-.94-2.06-.94-.94-2.06-.94 2.06-2.06.94z\"/><path d=\"M17.41 7.96l-1.37-1.37c-.4-.4-.92-.59-1.43-.59-.52 0-1.04.2-1.43.59L10.3 9.45l-7.72 7.72c-.78.78-.78 2.05 0 2.83L4 21.41c.39.39.9.59 1.41.59.51 0 1.02-.2 1.41-.59l7.78-7.78 2.81-2.81c.8-.78.8-2.07 0-2.86zM5.41 20L4 18.59l7.72-7.72 1.47 1.35L5.41 20z\"/>\n",
              "  </svg>\n",
              "      </button>\n",
              "      \n",
              "  <style>\n",
              "    .colab-df-container {\n",
              "      display:flex;\n",
              "      flex-wrap:wrap;\n",
              "      gap: 12px;\n",
              "    }\n",
              "\n",
              "    .colab-df-convert {\n",
              "      background-color: #E8F0FE;\n",
              "      border: none;\n",
              "      border-radius: 50%;\n",
              "      cursor: pointer;\n",
              "      display: none;\n",
              "      fill: #1967D2;\n",
              "      height: 32px;\n",
              "      padding: 0 0 0 0;\n",
              "      width: 32px;\n",
              "    }\n",
              "\n",
              "    .colab-df-convert:hover {\n",
              "      background-color: #E2EBFA;\n",
              "      box-shadow: 0px 1px 2px rgba(60, 64, 67, 0.3), 0px 1px 3px 1px rgba(60, 64, 67, 0.15);\n",
              "      fill: #174EA6;\n",
              "    }\n",
              "\n",
              "    [theme=dark] .colab-df-convert {\n",
              "      background-color: #3B4455;\n",
              "      fill: #D2E3FC;\n",
              "    }\n",
              "\n",
              "    [theme=dark] .colab-df-convert:hover {\n",
              "      background-color: #434B5C;\n",
              "      box-shadow: 0px 1px 3px 1px rgba(0, 0, 0, 0.15);\n",
              "      filter: drop-shadow(0px 1px 2px rgba(0, 0, 0, 0.3));\n",
              "      fill: #FFFFFF;\n",
              "    }\n",
              "  </style>\n",
              "\n",
              "      <script>\n",
              "        const buttonEl =\n",
              "          document.querySelector('#df-a248cbe2-7ec4-42c2-85ef-ed3614309f52 button.colab-df-convert');\n",
              "        buttonEl.style.display =\n",
              "          google.colab.kernel.accessAllowed ? 'block' : 'none';\n",
              "\n",
              "        async function convertToInteractive(key) {\n",
              "          const element = document.querySelector('#df-a248cbe2-7ec4-42c2-85ef-ed3614309f52');\n",
              "          const dataTable =\n",
              "            await google.colab.kernel.invokeFunction('convertToInteractive',\n",
              "                                                     [key], {});\n",
              "          if (!dataTable) return;\n",
              "\n",
              "          const docLinkHtml = 'Like what you see? Visit the ' +\n",
              "            '<a target=\"_blank\" href=https://colab.research.google.com/notebooks/data_table.ipynb>data table notebook</a>'\n",
              "            + ' to learn more about interactive tables.';\n",
              "          element.innerHTML = '';\n",
              "          dataTable['output_type'] = 'display_data';\n",
              "          await google.colab.output.renderOutput(dataTable, element);\n",
              "          const docLink = document.createElement('div');\n",
              "          docLink.innerHTML = docLinkHtml;\n",
              "          element.appendChild(docLink);\n",
              "        }\n",
              "      </script>\n",
              "    </div>\n",
              "  </div>\n",
              "  "
            ]
          },
          "metadata": {},
          "execution_count": 12
        }
      ],
      "source": [
        "df.describe()"
      ]
    },
    {
      "cell_type": "markdown",
      "source": [
        "# **EDA and Data Visualization**"
      ],
      "metadata": {
        "id": "QiR-9QEOqm-W"
      }
    },
    {
      "cell_type": "code",
      "execution_count": null,
      "metadata": {
        "colab": {
          "base_uri": "https://localhost:8080/",
          "height": 264
        },
        "id": "eby5mmznuhTY",
        "outputId": "068a5019-4145-4651-cec6-d2b10a597e66"
      },
      "outputs": [
        {
          "output_type": "display_data",
          "data": {
            "text/plain": [
              "<Figure size 432x288 with 1 Axes>"
            ],
            "image/png": "[encoded data removed]"
          },
          "metadata": {}
        }
      ],
      "source": [
        "x = len(df[df['churn']== 1])\n",
        "y = len(df[df['churn']== 0])\n",
        "data = [x, y]\n",
        "label = ['Churned', 'Not churned']\n",
        " \n",
        "plt.pie(data, labels=label,autopct='%1.1f%%', colors=['cyan', 'yellow'],startangle=90)\n",
        "plt.title('Internet Service Churned/Not Churned by Percentage')\n",
        "plt.axis('equal')\n",
        "plt.show()"
      ]
    },
    {
      "cell_type": "code",
      "execution_count": null,
      "metadata": {
        "colab": {
          "base_uri": "https://localhost:8080/",
          "height": 281
        },
        "id": "k8yv9PLhu9Yw",
        "outputId": "5a646d3f-7669-40da-c693-d33e85075265"
      },
      "outputs": [
        {
          "output_type": "display_data",
          "data": {
            "text/plain": [
              "<Figure size 360x288 with 1 Axes>"
            ],
            "image/png": "[encoded data removed]"
          },
          "metadata": {
            "needs_background": "light"
          }
        }
      ],
      "source": [
        "tv_subscriber_churned  = len(df[(df['tv_subscriber'] == 1) & (df['churn'] == 1)])\n",
        "not_tv_subscriber_churned  = len(df[(df['tv_subscriber'] == 0) & (df['churn'] == 1)])\n",
        "tv_subscriber_not_churned  = len(df[(df['tv_subscriber'] == 1) & (df['churn'] == 0)])\n",
        "not_tv_subscriber_not_churned  = len(df[(df['tv_subscriber'] == 0) & (df['churn'] == 0)])\n",
        "\n",
        "labels = ['Subscriber', 'Not Subscriber']\n",
        "churn = [tv_subscriber_churned, not_tv_subscriber_churned]\n",
        "no_churn = [tv_subscriber_not_churned, not_tv_subscriber_not_churned ]\n",
        "\n",
        "x = np.arange(len(labels))  # the label locations\n",
        "width = 0.35  # the width of the bars\n",
        "plt.figure(figsize=(5,4))\n",
        "plt.bar(x - width/2, churn, width, label='churned', color='red')\n",
        "plt.bar(x + width/2, no_churn, width, label='not_churned', color='blue')\n",
        "plt.ylabel('Count')\n",
        "plt.xticks(x, labels)\n",
        "plt.title('TV Subscriber/Not subscriber - Churned Vs Not Churned ')\n",
        "plt.legend()\n",
        "plt.show()"
      ]
    },
    {
      "cell_type": "code",
      "execution_count": null,
      "metadata": {
        "colab": {
          "base_uri": "https://localhost:8080/",
          "height": 281
        },
        "id": "esWwSm-FxH7t",
        "outputId": "65d47f4c-6dbd-4d60-c53b-6d6523b4b673"
      },
      "outputs": [
        {
          "output_type": "display_data",
          "data": {
            "text/plain": [
              "<Figure size 360x288 with 1 Axes>"
            ],
            "image/png": "[encoded data removed]"
          },
          "metadata": {
            "needs_background": "light"
          }
        }
      ],
      "source": [
        "movie_subscriber_churned  = len(df[(df['movie_subscriber'] == 1) & (df['churn'] == 1)])\n",
        "not_movie_subscriber_churned  = len(df[(df['movie_subscriber'] == 0) & (df['churn'] == 1)])\n",
        "movie_subscriber_not_churned  = len(df[(df['movie_subscriber'] == 1) & (df['churn'] == 0)])\n",
        "not_movie_subscriber_not_churned  = len(df[(df['movie_subscriber'] == 0) & (df['churn'] == 0)])\n",
        "\n",
        "labels = ['Subscriber', 'Not Subscriber']\n",
        "churn = [movie_subscriber_churned, not_movie_subscriber_churned]\n",
        "no_churn = [movie_subscriber_not_churned, not_movie_subscriber_not_churned]\n",
        "c1 = ['red']\n",
        "c2=['blue'] \n",
        "\n",
        "x = np.arange(len(labels))  # the label locations\n",
        "width = 0.35  # the width of the bars\n",
        "plt.figure(figsize=(5,4))\n",
        "plt.bar(x - width/2, churn, width, label='churned', color=c1)\n",
        "plt.bar(x + width/2, no_churn, width, label='not_churned', color=c2)\n",
        "plt.ylabel('Count')\n",
        "plt.xticks(x, labels)\n",
        "plt.title('Movie Package Subscriber/Not subscriber - Churned Vs Not Churned ')\n",
        "\n",
        "plt.legend()\n",
        "plt.show()"
      ]
    },
    {
      "cell_type": "code",
      "execution_count": null,
      "metadata": {
        "colab": {
          "base_uri": "https://localhost:8080/",
          "height": 343
        },
        "id": "0X_u2Q9IyHZT",
        "outputId": "08cf93d7-cbda-4509-f83e-d71dd98f0b14"
      },
      "outputs": [
        {
          "output_type": "execute_result",
          "data": {
            "text/plain": [
              "<matplotlib.legend.Legend at 0x7f70f725f3d0>"
            ]
          },
          "metadata": {},
          "execution_count": 16
        },
        {
          "output_type": "display_data",
          "data": {
            "text/plain": [
              "<Figure size 432x288 with 1 Axes>"
            ],
            "image/png": "[encoded data removed]"
          },
          "metadata": {
            "needs_background": "light"
          }
        }
      ],
      "source": [
        "x = df.groupby(['tv_subscriber', 'movie_subscriber'])['churn'].value_counts()\n",
        "plt.figure(figsize=(6,4))\n",
        "plt.ylabel('Count')\n",
        "x.plot(kind='bar', color = 'red', title=\"User by TV subscriber/Movie Subscriber/Churn\")"
      ]
    },
    {
      "cell_type": "code",
      "execution_count": null,
      "metadata": {
        "colab": {
          "base_uri": "https://localhost:8080/",
          "height": 295
        },
        "id": "TCIEZuoLx-_v",
        "outputId": "40525155-4376-4769-ac12-ce6eb72f955d"
      },
      "outputs": [
        {
          "output_type": "display_data",
          "data": {
            "text/plain": [
              "<Figure size 432x288 with 1 Axes>"
            ],
            "image/png": "[encoded data removed]"
          },
          "metadata": {
            "needs_background": "light"
          }
        }
      ],
      "source": [
        "my_colors = [\"grey\",\"brown\"]\n",
        "sns.set_palette( my_colors )\n",
        "sns.boxplot(x=\"churn\",y=\"subscription_age\", data= df)\n",
        "plt.ylabel('Subscription Age (yrs.)')\n",
        "sns.set(rc={\"figure.figsize\":(7, 7)})\n",
        "plt.title('Subscription Age in yrs.')\n",
        "plt.show()"
      ]
    },
    {
      "cell_type": "code",
      "execution_count": null,
      "metadata": {
        "colab": {
          "base_uri": "https://localhost:8080/",
          "height": 300
        },
        "id": "4KlldEaHys-e",
        "outputId": "cb2901ac-38b0-44d2-e23b-8af84c7633d2"
      },
      "outputs": [
        {
          "output_type": "execute_result",
          "data": {
            "text/plain": [
              "         churn  subscription_age\n",
              "count  31843.0      31843.000000\n",
              "mean       0.0          2.743422\n",
              "std        0.0          2.334756\n",
              "min        0.0          0.020000\n",
              "25%        0.0          0.890000\n",
              "50%        0.0          2.070000\n",
              "75%        0.0          4.040000\n",
              "max        0.0         11.950000"
            ],
            "text/html": [
              "\n",
              "  <div id=\"df-65ae671d-f543-41c0-b932-1f6760d97dd7\">\n",
              "    <div class=\"colab-df-container\">\n",
              "      <div>\n",
              "<style scoped>\n",
              "    .dataframe tbody tr th:only-of-type {\n",
              "        vertical-align: middle;\n",
              "    }\n",
              "\n",
              "    .dataframe tbody tr th {\n",
              "        vertical-align: top;\n",
              "    }\n",
              "\n",
              "    .dataframe thead th {\n",
              "        text-align: right;\n",
              "    }\n",
              "</style>\n",
              "<table border=\"1\" class=\"dataframe\">\n",
              "  <thead>\n",
              "    <tr style=\"text-align: right;\">\n",
              "      <th></th>\n",
              "      <th>churn</th>\n",
              "      <th>subscription_age</th>\n",
              "    </tr>\n",
              "  </thead>\n",
              "  <tbody>\n",
              "    <tr>\n",
              "      <th>count</th>\n",
              "      <td>31843.0</td>\n",
              "      <td>31843.000000</td>\n",
              "    </tr>\n",
              "    <tr>\n",
              "      <th>mean</th>\n",
              "      <td>0.0</td>\n",
              "      <td>2.743422</td>\n",
              "    </tr>\n",
              "    <tr>\n",
              "      <th>std</th>\n",
              "      <td>0.0</td>\n",
              "      <td>2.334756</td>\n",
              "    </tr>\n",
              "    <tr>\n",
              "      <th>min</th>\n",
              "      <td>0.0</td>\n",
              "      <td>0.020000</td>\n",
              "    </tr>\n",
              "    <tr>\n",
              "      <th>25%</th>\n",
              "      <td>0.0</td>\n",
              "      <td>0.890000</td>\n",
              "    </tr>\n",
              "    <tr>\n",
              "      <th>50%</th>\n",
              "      <td>0.0</td>\n",
              "      <td>2.070000</td>\n",
              "    </tr>\n",
              "    <tr>\n",
              "      <th>75%</th>\n",
              "      <td>0.0</td>\n",
              "      <td>4.040000</td>\n",
              "    </tr>\n",
              "    <tr>\n",
              "      <th>max</th>\n",
              "      <td>0.0</td>\n",
              "      <td>11.950000</td>\n",
              "    </tr>\n",
              "  </tbody>\n",
              "</table>\n",
              "</div>\n",
              "      <button class=\"colab-df-convert\" onclick=\"convertToInteractive('df-65ae671d-f543-41c0-b932-1f6760d97dd7')\"\n",
              "              title=\"Convert this dataframe to an interactive table.\"\n",
              "              style=\"display:none;\">\n",
              "        \n",
              "  <svg xmlns=\"http://www.w3.org/2000/svg\" height=\"24px\"viewBox=\"0 0 24 24\"\n",
              "       width=\"24px\">\n",
              "    <path d=\"M0 0h24v24H0V0z\" fill=\"none\"/>\n",
              "    <path d=\"M18.56 5.44l.94 2.06.94-2.06 2.06-.94-2.06-.94-.94-2.06-.94 2.06-2.06.94zm-11 1L8.5 8.5l.94-2.06 2.06-.94-2.06-.94L8.5 2.5l-.94 2.06-2.06.94zm10 10l.94 2.06.94-2.06 2.06-.94-2.06-.94-.94-2.06-.94 2.06-2.06.94z\"/><path d=\"M17.41 7.96l-1.37-1.37c-.4-.4-.92-.59-1.43-.59-.52 0-1.04.2-1.43.59L10.3 9.45l-7.72 7.72c-.78.78-.78 2.05 0 2.83L4 21.41c.39.39.9.59 1.41.59.51 0 1.02-.2 1.41-.59l7.78-7.78 2.81-2.81c.8-.78.8-2.07 0-2.86zM5.41 20L4 18.59l7.72-7.72 1.47 1.35L5.41 20z\"/>\n",
              "  </svg>\n",
              "      </button>\n",
              "      \n",
              "  <style>\n",
              "    .colab-df-container {\n",
              "      display:flex;\n",
              "      flex-wrap:wrap;\n",
              "      gap: 12px;\n",
              "    }\n",
              "\n",
              "    .colab-df-convert {\n",
              "      background-color: #E8F0FE;\n",
              "      border: none;\n",
              "      border-radius: 50%;\n",
              "      cursor: pointer;\n",
              "      display: none;\n",
              "      fill: #1967D2;\n",
              "      height: 32px;\n",
              "      padding: 0 0 0 0;\n",
              "      width: 32px;\n",
              "    }\n",
              "\n",
              "    .colab-df-convert:hover {\n",
              "      background-color: #E2EBFA;\n",
              "      box-shadow: 0px 1px 2px rgba(60, 64, 67, 0.3), 0px 1px 3px 1px rgba(60, 64, 67, 0.15);\n",
              "      fill: #174EA6;\n",
              "    }\n",
              "\n",
              "    [theme=dark] .colab-df-convert {\n",
              "      background-color: #3B4455;\n",
              "      fill: #D2E3FC;\n",
              "    }\n",
              "\n",
              "    [theme=dark] .colab-df-convert:hover {\n",
              "      background-color: #434B5C;\n",
              "      box-shadow: 0px 1px 3px 1px rgba(0, 0, 0, 0.15);\n",
              "      filter: drop-shadow(0px 1px 2px rgba(0, 0, 0, 0.3));\n",
              "      fill: #FFFFFF;\n",
              "    }\n",
              "  </style>\n",
              "\n",
              "      <script>\n",
              "        const buttonEl =\n",
              "          document.querySelector('#df-65ae671d-f543-41c0-b932-1f6760d97dd7 button.colab-df-convert');\n",
              "        buttonEl.style.display =\n",
              "          google.colab.kernel.accessAllowed ? 'block' : 'none';\n",
              "\n",
              "        async function convertToInteractive(key) {\n",
              "          const element = document.querySelector('#df-65ae671d-f543-41c0-b932-1f6760d97dd7');\n",
              "          const dataTable =\n",
              "            await google.colab.kernel.invokeFunction('convertToInteractive',\n",
              "                                                     [key], {});\n",
              "          if (!dataTable) return;\n",
              "\n",
              "          const docLinkHtml = 'Like what you see? Visit the ' +\n",
              "            '<a target=\"_blank\" href=https://colab.research.google.com/notebooks/data_table.ipynb>data table notebook</a>'\n",
              "            + ' to learn more about interactive tables.';\n",
              "          element.innerHTML = '';\n",
              "          dataTable['output_type'] = 'display_data';\n",
              "          await google.colab.output.renderOutput(dataTable, element);\n",
              "          const docLink = document.createElement('div');\n",
              "          docLink.innerHTML = docLinkHtml;\n",
              "          element.appendChild(docLink);\n",
              "        }\n",
              "      </script>\n",
              "    </div>\n",
              "  </div>\n",
              "  "
            ]
          },
          "metadata": {},
          "execution_count": 18
        }
      ],
      "source": [
        "x = df[['churn', 'subscription_age']]\n",
        "y = x.query('churn <= 0')\n",
        "y.describe()"
      ]
    },
    {
      "cell_type": "code",
      "execution_count": null,
      "metadata": {
        "id": "QmCoxRiK1Uns"
      },
      "outputs": [],
      "source": [
        "no_contract_churned = len(df[(df['remaining_contract'] == 0) & (df['churn'] == 1)])\n",
        "contract_remain_churned = len(df[~(df['remaining_contract']== 0) & (df['remaining_contract'] != 0.0) & (df['churn'] == 1)])\n",
        "contract_over_churned  = len(df[(df['remaining_contract']==0) & (df['churn'] == 1)])\n",
        "no_contract_no_churned = len(df[(df['remaining_contract']==0) & (df['churn'] == 0)])\n",
        "contract_remain_not_churned = len(df[~(df['remaining_contract']==0) & (df['remaining_contract'] != 0.0) & (df['churn'] == 0)])\n",
        "contract_over_not_churned  = len(df[(df['remaining_contract'] == 0.0) & (df['churn'] == 0)])"
      ]
    },
    {
      "cell_type": "code",
      "execution_count": null,
      "metadata": {
        "colab": {
          "base_uri": "https://localhost:8080/",
          "height": 338
        },
        "id": "bsut73Qk2e9v",
        "outputId": "59dba4cc-3924-4499-956d-3fa7dabcf188"
      },
      "outputs": [
        {
          "output_type": "display_data",
          "data": {
            "text/plain": [
              "<Figure size 576x360 with 1 Axes>"
            ],
            "image/png": "[encoded data removed]"
          },
          "metadata": {}
        }
      ],
      "source": [
        "labels = ['No Contract','Contract remains', 'Contract over']\n",
        "churn = [no_contract_churned,contract_remain_churned , contract_over_churned]\n",
        "no_churn = [no_contract_no_churned,contract_remain_not_churned , contract_over_not_churned]\n",
        "\n",
        "x = np.arange(len(labels))  # the label locations\n",
        "width = 0.35  # the width of the bars\n",
        "plt.figure(figsize=(8,5))\n",
        "ay = plt.bar(x - width/2, churn, width, label='churned', color = c1)\n",
        "ax = plt.bar(x + width/2, no_churn, width, label='not_churned',color = c2)\n",
        "plt.xticks(x, labels)\n",
        "plt.ylabel('Count')\n",
        "\n",
        "plt.title('Remaining Service (in years)')\n",
        "plt.legend()\n",
        "\n",
        "plt.show()"
      ]
    },
    {
      "cell_type": "code",
      "execution_count": null,
      "metadata": {
        "colab": {
          "base_uri": "https://localhost:8080/",
          "height": 464
        },
        "id": "IOMLkuEg27p2",
        "outputId": "39e5be36-74a3-48e4-88ee-a4d38cf5a5aa"
      },
      "outputs": [
        {
          "output_type": "display_data",
          "data": {
            "text/plain": [
              "<Figure size 504x504 with 1 Axes>"
            ],
            "image/png": "[encoded data removed]"
          },
          "metadata": {}
        }
      ],
      "source": [
        "my_colors = [\"grey\",\"brown\"]\n",
        "sns.set_palette( my_colors )\n",
        "sns.boxplot(x=\"churn\",y=\"bill_avg\",data=df )\n",
        "sns.set(rc={\"figure.figsize\":(10, 7)})\n",
        "plt.title('Last 3 months Bill Avg.')\n",
        "plt.ylabel('Bill Avg. in $')\n",
        "plt.show() "
      ]
    },
    {
      "cell_type": "code",
      "execution_count": null,
      "metadata": {
        "colab": {
          "base_uri": "https://localhost:8080/",
          "height": 300
        },
        "id": "h99AV_Gj3Bkp",
        "outputId": "30893958-cc21-404b-ac55-a6163a3c1617"
      },
      "outputs": [
        {
          "output_type": "execute_result",
          "data": {
            "text/plain": [
              "         churn      bill_avg\n",
              "count  38097.0  38097.000000\n",
              "mean       1.0     19.127438\n",
              "std        0.0     13.065055\n",
              "min        1.0      0.000000\n",
              "25%        1.0     13.000000\n",
              "50%        1.0     20.000000\n",
              "75%        1.0     23.000000\n",
              "max        1.0    278.000000"
            ],
            "text/html": [
              "\n",
              "  <div id=\"df-038e96a3-35e8-45e9-9464-36dd8307f9d1\">\n",
              "    <div class=\"colab-df-container\">\n",
              "      <div>\n",
              "<style scoped>\n",
              "    .dataframe tbody tr th:only-of-type {\n",
              "        vertical-align: middle;\n",
              "    }\n",
              "\n",
              "    .dataframe tbody tr th {\n",
              "        vertical-align: top;\n",
              "    }\n",
              "\n",
              "    .dataframe thead th {\n",
              "        text-align: right;\n",
              "    }\n",
              "</style>\n",
              "<table border=\"1\" class=\"dataframe\">\n",
              "  <thead>\n",
              "    <tr style=\"text-align: right;\">\n",
              "      <th></th>\n",
              "      <th>churn</th>\n",
              "      <th>bill_avg</th>\n",
              "    </tr>\n",
              "  </thead>\n",
              "  <tbody>\n",
              "    <tr>\n",
              "      <th>count</th>\n",
              "      <td>38097.0</td>\n",
              "      <td>38097.000000</td>\n",
              "    </tr>\n",
              "    <tr>\n",
              "      <th>mean</th>\n",
              "      <td>1.0</td>\n",
              "      <td>19.127438</td>\n",
              "    </tr>\n",
              "    <tr>\n",
              "      <th>std</th>\n",
              "      <td>0.0</td>\n",
              "      <td>13.065055</td>\n",
              "    </tr>\n",
              "    <tr>\n",
              "      <th>min</th>\n",
              "      <td>1.0</td>\n",
              "      <td>0.000000</td>\n",
              "    </tr>\n",
              "    <tr>\n",
              "      <th>25%</th>\n",
              "      <td>1.0</td>\n",
              "      <td>13.000000</td>\n",
              "    </tr>\n",
              "    <tr>\n",
              "      <th>50%</th>\n",
              "      <td>1.0</td>\n",
              "      <td>20.000000</td>\n",
              "    </tr>\n",
              "    <tr>\n",
              "      <th>75%</th>\n",
              "      <td>1.0</td>\n",
              "      <td>23.000000</td>\n",
              "    </tr>\n",
              "    <tr>\n",
              "      <th>max</th>\n",
              "      <td>1.0</td>\n",
              "      <td>278.000000</td>\n",
              "    </tr>\n",
              "  </tbody>\n",
              "</table>\n",
              "</div>\n",
              "      <button class=\"colab-df-convert\" onclick=\"convertToInteractive('df-038e96a3-35e8-45e9-9464-36dd8307f9d1')\"\n",
              "              title=\"Convert this dataframe to an interactive table.\"\n",
              "              style=\"display:none;\">\n",
              "        \n",
              "  <svg xmlns=\"http://www.w3.org/2000/svg\" height=\"24px\"viewBox=\"0 0 24 24\"\n",
              "       width=\"24px\">\n",
              "    <path d=\"M0 0h24v24H0V0z\" fill=\"none\"/>\n",
              "    <path d=\"M18.56 5.44l.94 2.06.94-2.06 2.06-.94-2.06-.94-.94-2.06-.94 2.06-2.06.94zm-11 1L8.5 8.5l.94-2.06 2.06-.94-2.06-.94L8.5 2.5l-.94 2.06-2.06.94zm10 10l.94 2.06.94-2.06 2.06-.94-2.06-.94-.94-2.06-.94 2.06-2.06.94z\"/><path d=\"M17.41 7.96l-1.37-1.37c-.4-.4-.92-.59-1.43-.59-.52 0-1.04.2-1.43.59L10.3 9.45l-7.72 7.72c-.78.78-.78 2.05 0 2.83L4 21.41c.39.39.9.59 1.41.59.51 0 1.02-.2 1.41-.59l7.78-7.78 2.81-2.81c.8-.78.8-2.07 0-2.86zM5.41 20L4 18.59l7.72-7.72 1.47 1.35L5.41 20z\"/>\n",
              "  </svg>\n",
              "      </button>\n",
              "      \n",
              "  <style>\n",
              "    .colab-df-container {\n",
              "      display:flex;\n",
              "      flex-wrap:wrap;\n",
              "      gap: 12px;\n",
              "    }\n",
              "\n",
              "    .colab-df-convert {\n",
              "      background-color: #E8F0FE;\n",
              "      border: none;\n",
              "      border-radius: 50%;\n",
              "      cursor: pointer;\n",
              "      display: none;\n",
              "      fill: #1967D2;\n",
              "      height: 32px;\n",
              "      padding: 0 0 0 0;\n",
              "      width: 32px;\n",
              "    }\n",
              "\n",
              "    .colab-df-convert:hover {\n",
              "      background-color: #E2EBFA;\n",
              "      box-shadow: 0px 1px 2px rgba(60, 64, 67, 0.3), 0px 1px 3px 1px rgba(60, 64, 67, 0.15);\n",
              "      fill: #174EA6;\n",
              "    }\n",
              "\n",
              "    [theme=dark] .colab-df-convert {\n",
              "      background-color: #3B4455;\n",
              "      fill: #D2E3FC;\n",
              "    }\n",
              "\n",
              "    [theme=dark] .colab-df-convert:hover {\n",
              "      background-color: #434B5C;\n",
              "      box-shadow: 0px 1px 3px 1px rgba(0, 0, 0, 0.15);\n",
              "      filter: drop-shadow(0px 1px 2px rgba(0, 0, 0, 0.3));\n",
              "      fill: #FFFFFF;\n",
              "    }\n",
              "  </style>\n",
              "\n",
              "      <script>\n",
              "        const buttonEl =\n",
              "          document.querySelector('#df-038e96a3-35e8-45e9-9464-36dd8307f9d1 button.colab-df-convert');\n",
              "        buttonEl.style.display =\n",
              "          google.colab.kernel.accessAllowed ? 'block' : 'none';\n",
              "\n",
              "        async function convertToInteractive(key) {\n",
              "          const element = document.querySelector('#df-038e96a3-35e8-45e9-9464-36dd8307f9d1');\n",
              "          const dataTable =\n",
              "            await google.colab.kernel.invokeFunction('convertToInteractive',\n",
              "                                                     [key], {});\n",
              "          if (!dataTable) return;\n",
              "\n",
              "          const docLinkHtml = 'Like what you see? Visit the ' +\n",
              "            '<a target=\"_blank\" href=https://colab.research.google.com/notebooks/data_table.ipynb>data table notebook</a>'\n",
              "            + ' to learn more about interactive tables.';\n",
              "          element.innerHTML = '';\n",
              "          dataTable['output_type'] = 'display_data';\n",
              "          await google.colab.output.renderOutput(dataTable, element);\n",
              "          const docLink = document.createElement('div');\n",
              "          docLink.innerHTML = docLinkHtml;\n",
              "          element.appendChild(docLink);\n",
              "        }\n",
              "      </script>\n",
              "    </div>\n",
              "  </div>\n",
              "  "
            ]
          },
          "metadata": {},
          "execution_count": 22
        }
      ],
      "source": [
        "x = df[['churn', 'bill_avg']]\n",
        "y = x.query('churn = 1')\n",
        "y.describe()"
      ]
    },
    {
      "cell_type": "code",
      "execution_count": null,
      "metadata": {
        "colab": {
          "base_uri": "https://localhost:8080/",
          "height": 464
        },
        "id": "hoTs8mdH3Nyp",
        "outputId": "f8655bd5-4a11-4353-ace3-e66fb3ec75ef"
      },
      "outputs": [
        {
          "output_type": "display_data",
          "data": {
            "text/plain": [
              "<Figure size 720x504 with 1 Axes>"
            ],
            "image/png": "[encoded data removed]"
          },
          "metadata": {}
        }
      ],
      "source": [
        "my_colors = [\"grey\",\"brown\"]\n",
        "sns.set_palette( my_colors )\n",
        "sns.boxplot(x=\"churn\",y=\"upload_avg\",data= df)\n",
        "sns.set(rc={\"figure.figsize\":(10, 7)})\n",
        "plt.title('Upload Avg.(last 3 months)')\n",
        "plt.ylabel('Upload Avg. GB')\n",
        "plt.show()"
      ]
    },
    {
      "cell_type": "code",
      "execution_count": null,
      "metadata": {
        "colab": {
          "base_uri": "https://localhost:8080/",
          "height": 300
        },
        "id": "-uPb-eUx3pZW",
        "outputId": "263c5938-5c8f-4df4-b3ab-cae21c9dc5d3"
      },
      "outputs": [
        {
          "output_type": "execute_result",
          "data": {
            "text/plain": [
              "         churn    upload_avg\n",
              "count  31843.0  31843.000000\n",
              "mean       0.0      5.983563\n",
              "std        0.0     11.522778\n",
              "min        0.0      0.000000\n",
              "25%        0.0      1.900000\n",
              "50%        0.0      3.700000\n",
              "75%        0.0      6.700000\n",
              "max        0.0    453.300000"
            ],
            "text/html": [
              "\n",
              "  <div id=\"df-284f6272-916f-4ff1-b101-34d7ff46bcd1\">\n",
              "    <div class=\"colab-df-container\">\n",
              "      <div>\n",
              "<style scoped>\n",
              "    .dataframe tbody tr th:only-of-type {\n",
              "        vertical-align: middle;\n",
              "    }\n",
              "\n",
              "    .dataframe tbody tr th {\n",
              "        vertical-align: top;\n",
              "    }\n",
              "\n",
              "    .dataframe thead th {\n",
              "        text-align: right;\n",
              "    }\n",
              "</style>\n",
              "<table border=\"1\" class=\"dataframe\">\n",
              "  <thead>\n",
              "    <tr style=\"text-align: right;\">\n",
              "      <th></th>\n",
              "      <th>churn</th>\n",
              "      <th>upload_avg</th>\n",
              "    </tr>\n",
              "  </thead>\n",
              "  <tbody>\n",
              "    <tr>\n",
              "      <th>count</th>\n",
              "      <td>31843.0</td>\n",
              "      <td>31843.000000</td>\n",
              "    </tr>\n",
              "    <tr>\n",
              "      <th>mean</th>\n",
              "      <td>0.0</td>\n",
              "      <td>5.983563</td>\n",
              "    </tr>\n",
              "    <tr>\n",
              "      <th>std</th>\n",
              "      <td>0.0</td>\n",
              "      <td>11.522778</td>\n",
              "    </tr>\n",
              "    <tr>\n",
              "      <th>min</th>\n",
              "      <td>0.0</td>\n",
              "      <td>0.000000</td>\n",
              "    </tr>\n",
              "    <tr>\n",
              "      <th>25%</th>\n",
              "      <td>0.0</td>\n",
              "      <td>1.900000</td>\n",
              "    </tr>\n",
              "    <tr>\n",
              "      <th>50%</th>\n",
              "      <td>0.0</td>\n",
              "      <td>3.700000</td>\n",
              "    </tr>\n",
              "    <tr>\n",
              "      <th>75%</th>\n",
              "      <td>0.0</td>\n",
              "      <td>6.700000</td>\n",
              "    </tr>\n",
              "    <tr>\n",
              "      <th>max</th>\n",
              "      <td>0.0</td>\n",
              "      <td>453.300000</td>\n",
              "    </tr>\n",
              "  </tbody>\n",
              "</table>\n",
              "</div>\n",
              "      <button class=\"colab-df-convert\" onclick=\"convertToInteractive('df-284f6272-916f-4ff1-b101-34d7ff46bcd1')\"\n",
              "              title=\"Convert this dataframe to an interactive table.\"\n",
              "              style=\"display:none;\">\n",
              "        \n",
              "  <svg xmlns=\"http://www.w3.org/2000/svg\" height=\"24px\"viewBox=\"0 0 24 24\"\n",
              "       width=\"24px\">\n",
              "    <path d=\"M0 0h24v24H0V0z\" fill=\"none\"/>\n",
              "    <path d=\"M18.56 5.44l.94 2.06.94-2.06 2.06-.94-2.06-.94-.94-2.06-.94 2.06-2.06.94zm-11 1L8.5 8.5l.94-2.06 2.06-.94-2.06-.94L8.5 2.5l-.94 2.06-2.06.94zm10 10l.94 2.06.94-2.06 2.06-.94-2.06-.94-.94-2.06-.94 2.06-2.06.94z\"/><path d=\"M17.41 7.96l-1.37-1.37c-.4-.4-.92-.59-1.43-.59-.52 0-1.04.2-1.43.59L10.3 9.45l-7.72 7.72c-.78.78-.78 2.05 0 2.83L4 21.41c.39.39.9.59 1.41.59.51 0 1.02-.2 1.41-.59l7.78-7.78 2.81-2.81c.8-.78.8-2.07 0-2.86zM5.41 20L4 18.59l7.72-7.72 1.47 1.35L5.41 20z\"/>\n",
              "  </svg>\n",
              "      </button>\n",
              "      \n",
              "  <style>\n",
              "    .colab-df-container {\n",
              "      display:flex;\n",
              "      flex-wrap:wrap;\n",
              "      gap: 12px;\n",
              "    }\n",
              "\n",
              "    .colab-df-convert {\n",
              "      background-color: #E8F0FE;\n",
              "      border: none;\n",
              "      border-radius: 50%;\n",
              "      cursor: pointer;\n",
              "      display: none;\n",
              "      fill: #1967D2;\n",
              "      height: 32px;\n",
              "      padding: 0 0 0 0;\n",
              "      width: 32px;\n",
              "    }\n",
              "\n",
              "    .colab-df-convert:hover {\n",
              "      background-color: #E2EBFA;\n",
              "      box-shadow: 0px 1px 2px rgba(60, 64, 67, 0.3), 0px 1px 3px 1px rgba(60, 64, 67, 0.15);\n",
              "      fill: #174EA6;\n",
              "    }\n",
              "\n",
              "    [theme=dark] .colab-df-convert {\n",
              "      background-color: #3B4455;\n",
              "      fill: #D2E3FC;\n",
              "    }\n",
              "\n",
              "    [theme=dark] .colab-df-convert:hover {\n",
              "      background-color: #434B5C;\n",
              "      box-shadow: 0px 1px 3px 1px rgba(0, 0, 0, 0.15);\n",
              "      filter: drop-shadow(0px 1px 2px rgba(0, 0, 0, 0.3));\n",
              "      fill: #FFFFFF;\n",
              "    }\n",
              "  </style>\n",
              "\n",
              "      <script>\n",
              "        const buttonEl =\n",
              "          document.querySelector('#df-284f6272-916f-4ff1-b101-34d7ff46bcd1 button.colab-df-convert');\n",
              "        buttonEl.style.display =\n",
              "          google.colab.kernel.accessAllowed ? 'block' : 'none';\n",
              "\n",
              "        async function convertToInteractive(key) {\n",
              "          const element = document.querySelector('#df-284f6272-916f-4ff1-b101-34d7ff46bcd1');\n",
              "          const dataTable =\n",
              "            await google.colab.kernel.invokeFunction('convertToInteractive',\n",
              "                                                     [key], {});\n",
              "          if (!dataTable) return;\n",
              "\n",
              "          const docLinkHtml = 'Like what you see? Visit the ' +\n",
              "            '<a target=\"_blank\" href=https://colab.research.google.com/notebooks/data_table.ipynb>data table notebook</a>'\n",
              "            + ' to learn more about interactive tables.';\n",
              "          element.innerHTML = '';\n",
              "          dataTable['output_type'] = 'display_data';\n",
              "          await google.colab.output.renderOutput(dataTable, element);\n",
              "          const docLink = document.createElement('div');\n",
              "          docLink.innerHTML = docLinkHtml;\n",
              "          element.appendChild(docLink);\n",
              "        }\n",
              "      </script>\n",
              "    </div>\n",
              "  </div>\n",
              "  "
            ]
          },
          "metadata": {},
          "execution_count": 24
        }
      ],
      "source": [
        "x = df[['churn', 'upload_avg']]\n",
        "y = x.query('churn = 0')\n",
        "y.describe()"
      ]
    },
    {
      "cell_type": "code",
      "execution_count": null,
      "metadata": {
        "colab": {
          "base_uri": "https://localhost:8080/",
          "height": 464
        },
        "id": "kAevLtKr32tb",
        "outputId": "e6376373-5b9b-44a4-9fe7-3f1fa22addb2"
      },
      "outputs": [
        {
          "output_type": "display_data",
          "data": {
            "text/plain": [
              "<Figure size 720x504 with 1 Axes>"
            ],
            "image/png": "[encoded data removed]"
          },
          "metadata": {}
        }
      ],
      "source": [
        "my_colors = [\"grey\",\"brown\"]\n",
        "sns.set_palette( my_colors )\n",
        "sns.boxplot(x=\"churn\",y=\"download_avg\",data= df)\n",
        "sns.set(rc={\"figure.figsize\":(10, 7)})\n",
        "plt.title('Download Avg.(last 3 months)')\n",
        "plt.ylabel('Download Avg. in GB')\n",
        "plt.show()"
      ]
    },
    {
      "cell_type": "code",
      "execution_count": null,
      "metadata": {
        "colab": {
          "base_uri": "https://localhost:8080/",
          "height": 300
        },
        "id": "_1nTWS6F4A5l",
        "outputId": "837e24d4-cc9b-45a3-a535-fd90139c5bf2"
      },
      "outputs": [
        {
          "output_type": "execute_result",
          "data": {
            "text/plain": [
              "         churn  download_avg\n",
              "count  38097.0  38097.000000\n",
              "mean       1.0     28.213101\n",
              "std        0.0     46.893323\n",
              "min        1.0      0.000000\n",
              "25%        1.0      0.500000\n",
              "50%        1.0     13.600000\n",
              "75%        1.0     38.600000\n",
              "max        1.0   1706.200000"
            ],
            "text/html": [
              "\n",
              "  <div id=\"df-93c967a1-74e7-429f-a9a5-496495b515ed\">\n",
              "    <div class=\"colab-df-container\">\n",
              "      <div>\n",
              "<style scoped>\n",
              "    .dataframe tbody tr th:only-of-type {\n",
              "        vertical-align: middle;\n",
              "    }\n",
              "\n",
              "    .dataframe tbody tr th {\n",
              "        vertical-align: top;\n",
              "    }\n",
              "\n",
              "    .dataframe thead th {\n",
              "        text-align: right;\n",
              "    }\n",
              "</style>\n",
              "<table border=\"1\" class=\"dataframe\">\n",
              "  <thead>\n",
              "    <tr style=\"text-align: right;\">\n",
              "      <th></th>\n",
              "      <th>churn</th>\n",
              "      <th>download_avg</th>\n",
              "    </tr>\n",
              "  </thead>\n",
              "  <tbody>\n",
              "    <tr>\n",
              "      <th>count</th>\n",
              "      <td>38097.0</td>\n",
              "      <td>38097.000000</td>\n",
              "    </tr>\n",
              "    <tr>\n",
              "      <th>mean</th>\n",
              "      <td>1.0</td>\n",
              "      <td>28.213101</td>\n",
              "    </tr>\n",
              "    <tr>\n",
              "      <th>std</th>\n",
              "      <td>0.0</td>\n",
              "      <td>46.893323</td>\n",
              "    </tr>\n",
              "    <tr>\n",
              "      <th>min</th>\n",
              "      <td>1.0</td>\n",
              "      <td>0.000000</td>\n",
              "    </tr>\n",
              "    <tr>\n",
              "      <th>25%</th>\n",
              "      <td>1.0</td>\n",
              "      <td>0.500000</td>\n",
              "    </tr>\n",
              "    <tr>\n",
              "      <th>50%</th>\n",
              "      <td>1.0</td>\n",
              "      <td>13.600000</td>\n",
              "    </tr>\n",
              "    <tr>\n",
              "      <th>75%</th>\n",
              "      <td>1.0</td>\n",
              "      <td>38.600000</td>\n",
              "    </tr>\n",
              "    <tr>\n",
              "      <th>max</th>\n",
              "      <td>1.0</td>\n",
              "      <td>1706.200000</td>\n",
              "    </tr>\n",
              "  </tbody>\n",
              "</table>\n",
              "</div>\n",
              "      <button class=\"colab-df-convert\" onclick=\"convertToInteractive('df-93c967a1-74e7-429f-a9a5-496495b515ed')\"\n",
              "              title=\"Convert this dataframe to an interactive table.\"\n",
              "              style=\"display:none;\">\n",
              "        \n",
              "  <svg xmlns=\"http://www.w3.org/2000/svg\" height=\"24px\"viewBox=\"0 0 24 24\"\n",
              "       width=\"24px\">\n",
              "    <path d=\"M0 0h24v24H0V0z\" fill=\"none\"/>\n",
              "    <path d=\"M18.56 5.44l.94 2.06.94-2.06 2.06-.94-2.06-.94-.94-2.06-.94 2.06-2.06.94zm-11 1L8.5 8.5l.94-2.06 2.06-.94-2.06-.94L8.5 2.5l-.94 2.06-2.06.94zm10 10l.94 2.06.94-2.06 2.06-.94-2.06-.94-.94-2.06-.94 2.06-2.06.94z\"/><path d=\"M17.41 7.96l-1.37-1.37c-.4-.4-.92-.59-1.43-.59-.52 0-1.04.2-1.43.59L10.3 9.45l-7.72 7.72c-.78.78-.78 2.05 0 2.83L4 21.41c.39.39.9.59 1.41.59.51 0 1.02-.2 1.41-.59l7.78-7.78 2.81-2.81c.8-.78.8-2.07 0-2.86zM5.41 20L4 18.59l7.72-7.72 1.47 1.35L5.41 20z\"/>\n",
              "  </svg>\n",
              "      </button>\n",
              "      \n",
              "  <style>\n",
              "    .colab-df-container {\n",
              "      display:flex;\n",
              "      flex-wrap:wrap;\n",
              "      gap: 12px;\n",
              "    }\n",
              "\n",
              "    .colab-df-convert {\n",
              "      background-color: #E8F0FE;\n",
              "      border: none;\n",
              "      border-radius: 50%;\n",
              "      cursor: pointer;\n",
              "      display: none;\n",
              "      fill: #1967D2;\n",
              "      height: 32px;\n",
              "      padding: 0 0 0 0;\n",
              "      width: 32px;\n",
              "    }\n",
              "\n",
              "    .colab-df-convert:hover {\n",
              "      background-color: #E2EBFA;\n",
              "      box-shadow: 0px 1px 2px rgba(60, 64, 67, 0.3), 0px 1px 3px 1px rgba(60, 64, 67, 0.15);\n",
              "      fill: #174EA6;\n",
              "    }\n",
              "\n",
              "    [theme=dark] .colab-df-convert {\n",
              "      background-color: #3B4455;\n",
              "      fill: #D2E3FC;\n",
              "    }\n",
              "\n",
              "    [theme=dark] .colab-df-convert:hover {\n",
              "      background-color: #434B5C;\n",
              "      box-shadow: 0px 1px 3px 1px rgba(0, 0, 0, 0.15);\n",
              "      filter: drop-shadow(0px 1px 2px rgba(0, 0, 0, 0.3));\n",
              "      fill: #FFFFFF;\n",
              "    }\n",
              "  </style>\n",
              "\n",
              "      <script>\n",
              "        const buttonEl =\n",
              "          document.querySelector('#df-93c967a1-74e7-429f-a9a5-496495b515ed button.colab-df-convert');\n",
              "        buttonEl.style.display =\n",
              "          google.colab.kernel.accessAllowed ? 'block' : 'none';\n",
              "\n",
              "        async function convertToInteractive(key) {\n",
              "          const element = document.querySelector('#df-93c967a1-74e7-429f-a9a5-496495b515ed');\n",
              "          const dataTable =\n",
              "            await google.colab.kernel.invokeFunction('convertToInteractive',\n",
              "                                                     [key], {});\n",
              "          if (!dataTable) return;\n",
              "\n",
              "          const docLinkHtml = 'Like what you see? Visit the ' +\n",
              "            '<a target=\"_blank\" href=https://colab.research.google.com/notebooks/data_table.ipynb>data table notebook</a>'\n",
              "            + ' to learn more about interactive tables.';\n",
              "          element.innerHTML = '';\n",
              "          dataTable['output_type'] = 'display_data';\n",
              "          await google.colab.output.renderOutput(dataTable, element);\n",
              "          const docLink = document.createElement('div');\n",
              "          docLink.innerHTML = docLinkHtml;\n",
              "          element.appendChild(docLink);\n",
              "        }\n",
              "      </script>\n",
              "    </div>\n",
              "  </div>\n",
              "  "
            ]
          },
          "metadata": {},
          "execution_count": 26
        }
      ],
      "source": [
        "x = df[['churn', 'download_avg']]\n",
        "\n",
        "y = x.query('churn = 1')\n",
        "y.describe()"
      ]
    },
    {
      "cell_type": "code",
      "execution_count": null,
      "metadata": {
        "colab": {
          "base_uri": "https://localhost:8080/",
          "height": 410
        },
        "id": "RPW7wRuM4G1C",
        "outputId": "fd84b5e1-5304-48fc-a784-427a2d18e6df"
      },
      "outputs": [
        {
          "output_type": "display_data",
          "data": {
            "text/plain": [
              "<Figure size 720x432 with 1 Axes>"
            ],
            "image/png": "[encoded data removed]"
          },
          "metadata": {}
        }
      ],
      "source": [
        "data = df[df['service_failure_count']<4]\n",
        "plt.figure(figsize = (10,6))\n",
        "my_colors = [\"blue\", \"red\"]\n",
        "sns.set_palette( my_colors )\n",
        "\n",
        "sns.countplot(data = data, x = 'service_failure_count', hue = 'churn')\n",
        "plt.title('Service Failure Count (last 3 months)')\n",
        "plt.show()"
      ]
    },
    {
      "cell_type": "code",
      "execution_count": null,
      "metadata": {
        "colab": {
          "base_uri": "https://localhost:8080/",
          "height": 410
        },
        "id": "KgDSl3Xj4Nvp",
        "outputId": "8b63a441-2da1-4569-8f78-0d5eef2e44ea"
      },
      "outputs": [
        {
          "output_type": "display_data",
          "data": {
            "text/plain": [
              "<Figure size 720x432 with 1 Axes>"
            ],
            "image/png": "[encoded data removed]"
          },
          "metadata": {}
        }
      ],
      "source": [
        "data = df[df['service_failure_count']>=4]\n",
        "plt.figure(figsize = (10,6))\n",
        "my_colors = [\"blue\",\"red\"]\n",
        "sns.set_palette( my_colors )\n",
        "sns.countplot(data = data, x = 'service_failure_count', hue = 'churn')\n",
        "plt.title('Service Failure Count (last 3 months)')\n",
        "plt.show()"
      ]
    },
    {
      "cell_type": "code",
      "execution_count": null,
      "metadata": {
        "colab": {
          "base_uri": "https://localhost:8080/"
        },
        "id": "A4_CYUdm4UCr",
        "outputId": "d3b90c09-76b9-490f-ce20-04a580328604"
      },
      "outputs": [
        {
          "output_type": "execute_result",
          "data": {
            "text/plain": [
              "service_failure_count  churn\n",
              "0                      1        31443\n",
              "                       0        26663\n",
              "1                      1         4139\n",
              "                       0         3501\n",
              "2                      1         1446\n",
              "                       0         1000\n",
              "3                      1          514\n",
              "                       0          387\n",
              "4                      1          253\n",
              "                       0          141\n",
              "5                      1          129\n",
              "                       0           72\n",
              "6                      1           67\n",
              "                       0           30\n",
              "7                      1           41\n",
              "                       0           17\n",
              "8                      1           23\n",
              "                       0           14\n",
              "9                      1           14\n",
              "                       0            3\n",
              "10                     1           10\n",
              "                       0            5\n",
              "11                     1            4\n",
              "                       0            2\n",
              "12                     0            4\n",
              "                       1            2\n",
              "13                     1            4\n",
              "                       0            1\n",
              "14                     1            3\n",
              "                       0            1\n",
              "15                     1            2\n",
              "16                     0            2\n",
              "                       1            1\n",
              "18                     1            1\n",
              "19                     1            1\n",
              "Name: churn, dtype: int64"
            ]
          },
          "metadata": {},
          "execution_count": 29
        }
      ],
      "source": [
        "df.groupby('service_failure_count')['churn'].value_counts()"
      ]
    },
    {
      "cell_type": "code",
      "execution_count": null,
      "metadata": {
        "colab": {
          "base_uri": "https://localhost:8080/",
          "height": 355
        },
        "id": "8QdGaxCC4all",
        "outputId": "d32795a9-f24a-4693-fe48-e530b2f82f3c"
      },
      "outputs": [
        {
          "output_type": "display_data",
          "data": {
            "text/plain": [
              "<Figure size 288x360 with 1 Axes>"
            ],
            "image/png": "[encoded data removed]"
          },
          "metadata": {}
        }
      ],
      "source": [
        "data = df[df['download_over_limit']<1]\n",
        "plt.figure(figsize = (4,5))\n",
        "my_colors = [\"blue\",\"red\"]\n",
        "sns.set_palette( my_colors )\n",
        "sns.countplot(data = data, x = 'download_over_limit', hue = 'churn')\n",
        "plt.title('Download Over Limit Count (last 9 months)')\n",
        "plt.show()"
      ]
    },
    {
      "cell_type": "code",
      "execution_count": null,
      "metadata": {
        "colab": {
          "base_uri": "https://localhost:8080/",
          "height": 410
        },
        "id": "aRZ6G0zp4f6G",
        "outputId": "d812ee30-525b-42e9-bd63-0dfc39aeedce"
      },
      "outputs": [
        {
          "output_type": "display_data",
          "data": {
            "text/plain": [
              "<Figure size 720x432 with 1 Axes>"
            ],
            "image/png": "[encoded data removed]"
          },
          "metadata": {}
        }
      ],
      "source": [
        "data = df[df['download_over_limit']>=1]\n",
        "plt.figure(figsize = (10,6))\n",
        "my_colors = [\"blue\",\"red\"]\n",
        "sns.set_palette( my_colors )\n",
        "sns.countplot(data = data, x = 'download_over_limit', hue = 'churn')\n",
        "plt.title('Download Over Limit Count (last 9 months)')\n",
        "plt.show()"
      ]
    },
    {
      "cell_type": "code",
      "execution_count": null,
      "metadata": {
        "colab": {
          "base_uri": "https://localhost:8080/"
        },
        "id": "YYZPuSdB4jpF",
        "outputId": "7f62596d-90c4-44df-f6fd-d88cf395efaa"
      },
      "outputs": [
        {
          "output_type": "execute_result",
          "data": {
            "text/plain": [
              "download_over_limit  churn\n",
              "0                    1        34756\n",
              "                     0        31393\n",
              "1                    1          549\n",
              "                     0          202\n",
              "2                    1          441\n",
              "                     0          105\n",
              "3                    1          433\n",
              "                     0           52\n",
              "4                    1          408\n",
              "                     0           32\n",
              "5                    1          383\n",
              "                     0           32\n",
              "6                    1          636\n",
              "                     0           26\n",
              "7                    1          491\n",
              "                     0            1\n",
              "Name: churn, dtype: int64"
            ]
          },
          "metadata": {},
          "execution_count": 32
        }
      ],
      "source": [
        "df.groupby('download_over_limit')['churn'].value_counts()"
      ]
    },
    {
      "cell_type": "markdown",
      "source": [
        "# **Checking for Multicollinearity**"
      ],
      "metadata": {
        "id": "9gOTDbv13HAd"
      }
    },
    {
      "cell_type": "code",
      "execution_count": null,
      "metadata": {
        "colab": {
          "base_uri": "https://localhost:8080/",
          "height": 596
        },
        "id": "yjqM1YyX4o-t",
        "outputId": "5b497d6f-0a3d-45d0-bdda-b016b012ec82"
      },
      "outputs": [
        {
          "output_type": "display_data",
          "data": {
            "text/plain": [
              "<Figure size 1080x576 with 2 Axes>"
            ],
            "image/png": "[encoded data removed]"
          },
          "metadata": {}
        }
      ],
      "source": [
        "correlation = df.corr()\n",
        "plt.figure(figsize=(15,8))\n",
        "\n",
        "sns.heatmap(correlation,vmin=-1,vmax=1,annot=True)\n",
        "plt.show()"
      ]
    },
    {
      "cell_type": "code",
      "execution_count": null,
      "metadata": {
        "id": "BMJL-xUPyCWC",
        "colab": {
          "base_uri": "https://localhost:8080/"
        },
        "outputId": "154d3c6e-53ff-4de1-9ef4-b1cb3ee2cb06"
      },
      "outputs": [
        {
          "output_type": "stream",
          "name": "stderr",
          "text": [
            "/usr/local/lib/python3.7/dist-packages/statsmodels/tools/_testing.py:19: FutureWarning: pandas.util.testing is deprecated. Use the functions in the public API at pandas.testing instead.\n",
            "  import pandas.util.testing as tm\n"
          ]
        }
      ],
      "source": [
        "import statsmodels.api as sm\n",
        "from statsmodels.stats.outliers_influence import variance_inflation_factor"
      ]
    },
    {
      "cell_type": "code",
      "execution_count": null,
      "metadata": {
        "colab": {
          "base_uri": "https://localhost:8080/"
        },
        "id": "0lEcsz7SWhM8",
        "outputId": "7600fbe9-426f-4a50-c1f4-336445164ed6"
      },
      "outputs": [
        {
          "output_type": "stream",
          "name": "stdout",
          "text": [
            "                 feature       VIF\n",
            "0          tv_subscriber  4.452635\n",
            "1       movie_subscriber  1.892918\n",
            "2       subscription_age  2.362281\n",
            "3               bill_avg  3.677469\n",
            "4     remaining_contract  2.301292\n",
            "5  service_failure_count  1.131285\n",
            "6           download_avg  2.595975\n",
            "7             upload_avg  1.737151\n",
            "8    download_over_limit  1.129238\n",
            "9                  churn  2.516260\n"
          ]
        }
      ],
      "source": [
        "\n",
        "# the independent variables set\n",
        "X = df.iloc[:-1]\n",
        "# VIF dataframe\n",
        "vif_data = pd.DataFrame()\n",
        "vif_data[\"feature\"] = X.columns\n",
        "  \n",
        "# calculating VIF for each feature\n",
        "vif_data[\"VIF\"] = [variance_inflation_factor(X.values, i)\n",
        "                          for i in range(len(X.columns))]\n",
        "  \n",
        "print(vif_data)"
      ]
    },
    {
      "cell_type": "markdown",
      "source": [
        "# **Data Transformation**"
      ],
      "metadata": {
        "id": "nOFsuYp53Cao"
      }
    },
    {
      "cell_type": "code",
      "source": [
        "#Importing necessary modules\n",
        "from sklearn.preprocessing import RobustScaler\n",
        "from sklearn. model_selection import train_test_split"
      ],
      "metadata": {
        "id": "C7dnIZ2m3hqm"
      },
      "execution_count": 8,
      "outputs": []
    },
    {
      "cell_type": "code",
      "source": [
        "#isolate the x and y variables\n",
        "y = df.iloc[:, -1].values\n",
        "X = df.iloc[:, :-1].values"
      ],
      "metadata": {
        "id": "w8ZzF_3s3zII"
      },
      "execution_count": 9,
      "outputs": []
    },
    {
      "cell_type": "code",
      "source": [
        "#feature Scaling\n",
        "rs = RobustScaler().fit(X)\n",
        "rs.transform(X)"
      ],
      "metadata": {
        "colab": {
          "base_uri": "https://localhost:8080/"
        },
        "id": "ImOBJ6PRTtDf",
        "outputId": "63879b7f-f395-4d72-ddbf-63a79a9a0462"
      },
      "execution_count": 10,
      "outputs": [
        {
          "output_type": "execute_result",
          "data": {
            "text/plain": [
              "array([[ 0.        ,  0.        ,  4.11983471, ..., -0.38712687,\n",
              "         0.02272727,  0.        ],\n",
              "       [-1.        ,  0.        ,  2.5785124 , ..., -0.54384328,\n",
              "        -0.5       ,  0.        ],\n",
              "       [ 0.        ,  0.        ,  2.86363636, ..., -0.28824627,\n",
              "        -0.29545455,  0.        ],\n",
              "       ...,\n",
              "       [ 0.        ,  0.        , -0.80991736, ..., -0.51585821,\n",
              "        -0.45454545,  0.        ],\n",
              "       [-1.        ,  0.        , -0.81404959, ..., -0.54384328,\n",
              "        -0.5       ,  0.        ],\n",
              "       [ 0.        ,  1.        , -0.81404959, ..., -0.54384328,\n",
              "        -0.5       ,  0.        ]])"
            ]
          },
          "metadata": {},
          "execution_count": 10
        }
      ]
    },
    {
      "cell_type": "code",
      "source": [
        "#split dataset into training and test set\n",
        "X_train, X_test, y_train, y_test = train_test_split(X, y, test_size=0.20, random_state=123)"
      ],
      "metadata": {
        "id": "co14wYxS33Ut"
      },
      "execution_count": 11,
      "outputs": []
    },
    {
      "cell_type": "markdown",
      "source": [
        "# **Logistic Regression**"
      ],
      "metadata": {
        "id": "d7IRfICw2tX_"
      }
    },
    {
      "cell_type": "code",
      "source": [
        "#Import the necessary modules\n",
        "from sklearn.linear_model import LogisticRegression\n",
        "from sklearn.model_selection import GridSearchCV\n",
        "import sklearn.metrics as metrics\n",
        "from sklearn.metrics import confusion_matrix\n",
        "from sklearn.metrics import accuracy_score,f1_score,precision_score,recall_score\n",
        "from sklearn.metrics import roc_auc_score, roc_curve"
      ],
      "metadata": {
        "id": "cCRom5GC22rW"
      },
      "execution_count": 12,
      "outputs": []
    },
    {
      "cell_type": "code",
      "source": [
        "# Defining Parameters\n",
        "parameters = {'penalty' : ['l2'],\n",
        "              'C': [0.1, 0.3, 0.6],\n",
        "              'max_iter': [100, 200, 300]\n",
        "             }\n",
        "lr = LogisticRegression()\n",
        "clf = GridSearchCV(lr, parameters, cv=5, verbose=5, n_jobs=-1)\n",
        "clf.fit(X_train, y_train)"
      ],
      "metadata": {
        "colab": {
          "base_uri": "https://localhost:8080/"
        },
        "id": "MRIDdv724oKz",
        "outputId": "19bde0a2-3838-40a7-b903-89ceb53d5c08"
      },
      "execution_count": 13,
      "outputs": [
        {
          "output_type": "stream",
          "name": "stdout",
          "text": [
            "Fitting 5 folds for each of 9 candidates, totalling 45 fits\n"
          ]
        },
        {
          "output_type": "execute_result",
          "data": {
            "text/plain": [
              "GridSearchCV(cv=5, estimator=LogisticRegression(), n_jobs=-1,\n",
              "             param_grid={'C': [0.1, 0.3, 0.6], 'max_iter': [100, 200, 300],\n",
              "                         'penalty': ['l2']},\n",
              "             verbose=5)"
            ]
          },
          "metadata": {},
          "execution_count": 13
        }
      ]
    },
    {
      "cell_type": "code",
      "source": [
        "#Choosing best parameters\n",
        "best_clf = clf.best_params_ , clf.best_score_\n",
        "best_clf"
      ],
      "metadata": {
        "colab": {
          "base_uri": "https://localhost:8080/"
        },
        "id": "jveqefjQ4s4P",
        "outputId": "492608b2-0701-4907-bcf4-36cdadd0f66e"
      },
      "execution_count": 14,
      "outputs": [
        {
          "output_type": "execute_result",
          "data": {
            "text/plain": [
              "({'C': 0.6, 'max_iter': 200, 'penalty': 'l2'}, 0.8688519107935658)"
            ]
          },
          "metadata": {},
          "execution_count": 14
        }
      ]
    },
    {
      "cell_type": "code",
      "source": [
        "#Instantiate the Logistic Regression\n",
        "lr1 = LogisticRegression(C=0.6, penalty='l2', verbose=5,max_iter=200)\n",
        "lr1.fit(X_train, y_train)"
      ],
      "metadata": {
        "colab": {
          "base_uri": "https://localhost:8080/"
        },
        "id": "GZbM836O4xzj",
        "outputId": "4dfe758b-ca24-4904-9939-d6e9801388d9"
      },
      "execution_count": 15,
      "outputs": [
        {
          "output_type": "stream",
          "name": "stderr",
          "text": [
            "[Parallel(n_jobs=1)]: Using backend SequentialBackend with 1 concurrent workers.\n",
            "[Parallel(n_jobs=1)]: Done   1 out of   1 | elapsed:    2.0s remaining:    0.0s\n",
            "[Parallel(n_jobs=1)]: Done   1 out of   1 | elapsed:    2.0s finished\n"
          ]
        },
        {
          "output_type": "execute_result",
          "data": {
            "text/plain": [
              "LogisticRegression(C=0.6, max_iter=200, verbose=5)"
            ]
          },
          "metadata": {},
          "execution_count": 15
        }
      ]
    },
    {
      "cell_type": "code",
      "source": [
        "y_pred = lr1.predict(X_test)\n",
        "\n",
        "cnf_matrix = confusion_matrix(y_test, y_pred)\n",
        "lr1.score(X_test,y_test)"
      ],
      "metadata": {
        "colab": {
          "base_uri": "https://localhost:8080/"
        },
        "id": "PiY43s-o42E2",
        "outputId": "d1e0a8e9-6729-4f3b-9ca5-edae29505e10"
      },
      "execution_count": 16,
      "outputs": [
        {
          "output_type": "execute_result",
          "data": {
            "text/plain": [
              "0.8681727194738347"
            ]
          },
          "metadata": {},
          "execution_count": 16
        }
      ]
    },
    {
      "cell_type": "code",
      "source": [
        "# Create heatmap from the confusion matrix\n",
        "%matplotlib inline\n",
        "class_names=[False, True] # name  of classes\n",
        "fig, ax = plt.subplots(figsize=(5, 4))\n",
        "sns.heatmap(pd.DataFrame(cnf_matrix), annot=True, cmap=\"YlGnBu\", fmt='g')\n",
        "ax.xaxis.set_label_position(\"top\")\n",
        "plt.tight_layout()\n",
        "plt.title('Confusion matrix')\n",
        "plt.ylabel('Actual label')\n",
        "plt.xlabel('Predicted label')\n",
        "tick_marks = [0.5, 1.5]\n",
        "plt.xticks(tick_marks, class_names)\n",
        "plt.yticks(tick_marks, class_names)"
      ],
      "metadata": {
        "colab": {
          "base_uri": "https://localhost:8080/",
          "height": 377
        },
        "id": "MoL2-oY246Ez",
        "outputId": "5e54912b-7f4f-46bc-afc3-b12a6e4ee427"
      },
      "execution_count": 17,
      "outputs": [
        {
          "output_type": "execute_result",
          "data": {
            "text/plain": [
              "([<matplotlib.axis.YTick at 0x7f0dbcc44690>,\n",
              "  <matplotlib.axis.YTick at 0x7f0dbfcb7d90>],\n",
              " [Text(0, 0.5, 'False'), Text(0, 1.5, 'True')])"
            ]
          },
          "metadata": {},
          "execution_count": 17
        },
        {
          "output_type": "display_data",
          "data": {
            "text/plain": [
              "<Figure size 360x288 with 2 Axes>"
            ],
            "image/png": "[encoded data removed]"
          },
          "metadata": {
            "needs_background": "light"
          }
        }
      ]
    },
    {
      "cell_type": "code",
      "source": [
        "#Evaluation Metrics\n",
        "print(accuracy_score(y_test, y_pred), \": is the accuracy score\")\n",
        "print(precision_score(y_test, y_pred), \": is the precision score\")\n",
        "print(recall_score(y_test, y_pred), \": is the recall score\")\n",
        "print(f1_score(y_test, y_pred), \": is the f1 score\")"
      ],
      "metadata": {
        "colab": {
          "base_uri": "https://localhost:8080/"
        },
        "id": "w3AuHCEb4_3c",
        "outputId": "c5dc805e-fcf2-4698-ebee-bbb89f8ae68e"
      },
      "execution_count": 18,
      "outputs": [
        {
          "output_type": "stream",
          "name": "stdout",
          "text": [
            "0.8681727194738347 : is the accuracy score\n",
            "0.8550153846153846 : is the precision score\n",
            "0.9125180612110863 : is the recall score\n",
            "0.8828313635785996 : is the f1 score\n"
          ]
        }
      ]
    },
    {
      "cell_type": "code",
      "source": [
        "#testing our model \n",
        "\n",
        "pred_test =lr1.predict_proba(X_test)[:,1]\n",
        "fpr1, tpr1, thresholds1 = metrics.roc_curve(y_test, pred_test)\n",
        "pred_train = lr1.predict_proba(X_train)[:,1]\n",
        "fpr2,tpr2,thresholds2=metrics.roc_curve(y_train, pred_train)\n",
        "\n",
        "#ROC curve\n",
        "x = plt.subplot( )\n",
        "x.plot(fpr1, tpr1, label='Test ROC ,auc='+str(roc_auc_score(y_test,pred_test)))\n",
        "x.plot(fpr2, tpr2, label='Train ROC ,auc='+str(roc_auc_score(y_train,pred_train)))\n",
        "plt.title('ROC')\n",
        "plt.xlabel('FPR')\n",
        "plt.ylabel('TPR')\n",
        "x.legend()\n",
        "plt.show()\n",
        "\n",
        "print(\"AUC on Test data is \" +str(roc_auc_score(y_test,pred_test)))\n",
        "print(\"AUC on Train data is \" +str(roc_auc_score(y_train,pred_train)))"
      ],
      "metadata": {
        "colab": {
          "base_uri": "https://localhost:8080/",
          "height": 330
        },
        "id": "ITXPSj1T5Fqs",
        "outputId": "ca8f50d9-4055-41c5-afd6-fb441e6739d3"
      },
      "execution_count": 19,
      "outputs": [
        {
          "output_type": "display_data",
          "data": {
            "text/plain": [
              "<Figure size 432x288 with 1 Axes>"
            ],
            "image/png": "[encoded data removed]"
          },
          "metadata": {
            "needs_background": "light"
          }
        },
        {
          "output_type": "stream",
          "name": "stdout",
          "text": [
            "AUC on Test data is 0.9307905826720548\n",
            "AUC on Train data is 0.9312494244986187\n"
          ]
        }
      ]
    },
    {
      "cell_type": "markdown",
      "metadata": {
        "id": "u1Hc40s9Dkcc"
      },
      "source": [
        "# **K Nearest Neighbours**"
      ]
    },
    {
      "cell_type": "code",
      "execution_count": null,
      "metadata": {
        "id": "4cjpO1pVDsLb"
      },
      "outputs": [],
      "source": [
        "#Importing necessary modules\n",
        "from sklearn.neighbors import KNeighborsClassifier"
      ]
    },
    {
      "cell_type": "code",
      "execution_count": null,
      "metadata": {
        "colab": {
          "base_uri": "https://localhost:8080/",
          "height": 296
        },
        "id": "APjev_q3LDhG",
        "outputId": "bf2a2c19-7114-4ce9-a5f9-2580a2374bc2"
      },
      "outputs": [
        {
          "output_type": "execute_result",
          "data": {
            "text/plain": [
              "<matplotlib.legend.Legend at 0x7f97658d2f90>"
            ]
          },
          "metadata": {},
          "execution_count": 59
        },
        {
          "output_type": "display_data",
          "data": {
            "text/plain": [
              "<Figure size 432x288 with 1 Axes>"
            ],
            "image/png": "[encoded data removed]"
          },
          "metadata": {
            "needs_background": "light"
          }
        }
      ],
      "source": [
        "#Finding K value\n",
        "error1= []\n",
        "error2= []\n",
        "for k in range(1,25):\n",
        "    knn= KNeighborsClassifier(n_neighbors=k)\n",
        "    knn.fit(X_train,y_train)\n",
        "    y_pred1= knn.predict(X_train)\n",
        "    error1.append(np.mean(y_train!= y_pred1))\n",
        "    y_pred2= knn.predict(X_test)\n",
        "    error2.append(np.mean(y_test!= y_pred2))\n",
        "# plt.figure(figsize(10,5))\n",
        "plt.plot(range(1,25),error1,label=\"train\")\n",
        "plt.plot(range(1,25),error2,label=\"test\")\n",
        "plt.xlabel('k Value')\n",
        "plt.ylabel('Error')\n",
        "plt.legend()"
      ]
    },
    {
      "cell_type": "code",
      "execution_count": null,
      "metadata": {
        "colab": {
          "base_uri": "https://localhost:8080/"
        },
        "id": "T-WUESRoGooZ",
        "outputId": "12e3f319-1c55-439f-8565-69485e1ce756"
      },
      "outputs": [
        {
          "output_type": "execute_result",
          "data": {
            "text/plain": [
              "KNeighborsClassifier(metric='euclidean', n_neighbors=9)"
            ]
          },
          "metadata": {},
          "execution_count": 69
        }
      ],
      "source": [
        "#Instantiate the K Neighbors Classifier\n",
        "classifier = KNeighborsClassifier(n_neighbors=9, metric='euclidean')\n",
        "classifier.fit(X_train,y_train)"
      ]
    },
    {
      "cell_type": "code",
      "execution_count": null,
      "metadata": {
        "colab": {
          "base_uri": "https://localhost:8080/"
        },
        "id": "4Gmyqqa0GsC2",
        "outputId": "b464a93f-d2da-4477-8445-b154ee1495ad"
      },
      "outputs": [
        {
          "output_type": "execute_result",
          "data": {
            "text/plain": [
              "array([1, 1, 0, ..., 1, 1, 1])"
            ]
          },
          "metadata": {},
          "execution_count": 70
        }
      ],
      "source": [
        "y_pred =  classifier.predict(X_test)\n",
        "y_pred"
      ]
    },
    {
      "cell_type": "code",
      "execution_count": null,
      "metadata": {
        "id": "ZImwuHOWFbpr"
      },
      "outputs": [],
      "source": [
        "cnf_matrix1= confusion_matrix(y_test,y_pred)"
      ]
    },
    {
      "cell_type": "code",
      "execution_count": null,
      "metadata": {
        "colab": {
          "base_uri": "https://localhost:8080/",
          "height": 377
        },
        "id": "2tLTsPVtFm1n",
        "outputId": "6a58e54d-766b-4494-9dce-f6c50cadeb92"
      },
      "outputs": [
        {
          "output_type": "execute_result",
          "data": {
            "text/plain": [
              "([<matplotlib.axis.YTick at 0x7f97656a7d50>,\n",
              "  <matplotlib.axis.YTick at 0x7f97656a7b10>],\n",
              " [Text(0, 0.5, 'False'), Text(0, 1.5, 'True')])"
            ]
          },
          "metadata": {},
          "execution_count": 72
        },
        {
          "output_type": "display_data",
          "data": {
            "text/plain": [
              "<Figure size 360x288 with 2 Axes>"
            ],
            "image/png": "[encoded data removed]"
          },
          "metadata": {
            "needs_background": "light"
          }
        }
      ],
      "source": [
        "# Create heatmap from the confusion matrix\n",
        "%matplotlib inline\n",
        "class_names=[False, True] # name  of classes\n",
        "fig, ax = plt.subplots(figsize=(5, 4))\n",
        "sns.heatmap(pd.DataFrame(cnf_matrix1), annot=True, cmap=\"YlGnBu\", fmt='g')\n",
        "ax.xaxis.set_label_position(\"top\")\n",
        "plt.tight_layout()\n",
        "plt.title('Confusion matrix')\n",
        "plt.ylabel('Actual label')\n",
        "plt.xlabel('Predicted label')\n",
        "tick_marks = [0.5, 1.5]\n",
        "plt.xticks(tick_marks, class_names)\n",
        "plt.yticks(tick_marks, class_names)"
      ]
    },
    {
      "cell_type": "code",
      "execution_count": null,
      "metadata": {
        "colab": {
          "base_uri": "https://localhost:8080/"
        },
        "id": "2afkL8N0GFLt",
        "outputId": "a6fc01dd-3640-456a-90b0-13ef22812c26"
      },
      "outputs": [
        {
          "output_type": "stream",
          "name": "stdout",
          "text": [
            "0.8232770946525594 : is the accuracy score\n",
            "0.8618893425313248 : is the precision score\n",
            "0.8041507946932878 : is the recall score\n",
            "0.8320195705354716 : is the f1 score\n"
          ]
        }
      ],
      "source": [
        "#Evaluation metrics\n",
        "print(accuracy_score(y_test, y_pred), \": is the accuracy score\")\n",
        "print(precision_score(y_test, y_pred), \": is the precision score\")\n",
        "print(recall_score(y_test, y_pred), \": is the recall score\")\n",
        "print(f1_score(y_test, y_pred), \": is the f1 score\")"
      ]
    },
    {
      "cell_type": "code",
      "execution_count": null,
      "metadata": {
        "colab": {
          "base_uri": "https://localhost:8080/",
          "height": 330
        },
        "id": "pAmMopTCQgPT",
        "outputId": "14ea8ddf-19a1-4cc7-a490-e297abc184d2"
      },
      "outputs": [
        {
          "output_type": "display_data",
          "data": {
            "text/plain": [
              "<Figure size 432x288 with 1 Axes>"
            ],
            "image/png": "[encoded data removed]"
          },
          "metadata": {
            "needs_background": "light"
          }
        },
        {
          "output_type": "stream",
          "name": "stdout",
          "text": [
            "AUC on Test data is 0.899321913239222\n",
            "AUC on Train data is 0.9399845417340721\n"
          ]
        }
      ],
      "source": [
        "#Testing our model \n",
        "\n",
        "pred_test =classifier.predict_proba(X_test)[:,1]\n",
        "fpr1, tpr1, thresholds1 = metrics.roc_curve(y_test, pred_test)\n",
        "pred_train = classifier.predict_proba(X_train)[:,1]\n",
        "fpr2,tpr2,thresholds2=metrics.roc_curve(y_train, pred_train)\n",
        "\n",
        "#ROC curve\n",
        "x = plt.subplot( )\n",
        "x.plot(fpr1, tpr1, label='Test ROC ,auc='+str(roc_auc_score(y_test,pred_test)))\n",
        "x.plot(fpr2, tpr2, label='Train ROC ,auc='+str(roc_auc_score(y_train,pred_train)))\n",
        "plt.title('ROC')\n",
        "plt.xlabel('FPR')\n",
        "plt.ylabel('TPR')\n",
        "x.legend()\n",
        "plt.show()\n",
        "\n",
        "print(\"AUC on Test data is \" +str(roc_auc_score(y_test,pred_test)))\n",
        "print(\"AUC on Train data is \" +str(roc_auc_score(y_train,pred_train)))"
      ]
    },
    {
      "cell_type": "markdown",
      "metadata": {
        "id": "-n6zXCuoxeAW"
      },
      "source": [
        "# **RANDOM FOREST**"
      ]
    },
    {
      "cell_type": "code",
      "execution_count": null,
      "metadata": {
        "id": "XovafKgPcqZK"
      },
      "outputs": [],
      "source": [
        "# Import the modules we are using\n",
        "from sklearn.ensemble import RandomForestClassifier"
      ]
    },
    {
      "cell_type": "code",
      "execution_count": null,
      "metadata": {
        "colab": {
          "base_uri": "https://localhost:8080/"
        },
        "id": "PDE_WFMJbpJT",
        "outputId": "b241c8c9-c118-49be-db05-6770d16ac874"
      },
      "outputs": [
        {
          "output_type": "execute_result",
          "data": {
            "text/plain": [
              "({'criterion': 'gini',\n",
              "  'max_features': 5,\n",
              "  'min_samples_leaf': 3,\n",
              "  'n_estimators': 500},\n",
              " 0.9406455318165874)"
            ]
          },
          "metadata": {},
          "execution_count": 22
        }
      ],
      "source": [
        "# Defining Parameters\n",
        "param_dist = {\"max_features\": [2,3,5],\n",
        "              \"min_samples_leaf\": [3,4,6],\n",
        "              \"criterion\": [\"gini\"],\n",
        "              \"n_estimators\": [500]}\n",
        "\n",
        "\n",
        "# Build the grid search\n",
        "dfrst = RandomForestClassifier()\n",
        "grid = GridSearchCV(estimator=dfrst, param_grid=param_dist, cv = 5, n_jobs=-1)\n",
        "grid_results = grid.fit(X_train, y_train)\n",
        "grid.best_params_, grid.best_score_"
      ]
    },
    {
      "cell_type": "code",
      "execution_count": null,
      "metadata": {
        "id": "OzfnvnVVcHPa"
      },
      "outputs": [],
      "source": [
        "# Extract the best decision forest \n",
        "best_clf = grid_results.best_estimator_\n",
        "y_pred = best_clf.predict(X_test)\n",
        "\n",
        "# Create a confusion matrix\n",
        "cnf_matrix = confusion_matrix(y_test, y_pred)"
      ]
    },
    {
      "cell_type": "code",
      "execution_count": null,
      "metadata": {
        "colab": {
          "base_uri": "https://localhost:8080/",
          "height": 377
        },
        "id": "3AijAhYHcN7h",
        "outputId": "8c13611c-03b4-4e79-a8d1-d3a681f64c5f"
      },
      "outputs": [
        {
          "output_type": "execute_result",
          "data": {
            "text/plain": [
              "([<matplotlib.axis.YTick at 0x7f7e66b47e10>,\n",
              "  <matplotlib.axis.YTick at 0x7f7e66b55a10>],\n",
              " [Text(0, 0.5, 'False'), Text(0, 1.5, 'True')])"
            ]
          },
          "metadata": {},
          "execution_count": 24
        },
        {
          "output_type": "display_data",
          "data": {
            "text/plain": [
              "<Figure size 360x288 with 2 Axes>"
            ],
            "image/png": "[encoded data removed]"
          },
          "metadata": {
            "needs_background": "light"
          }
        }
      ],
      "source": [
        "# Create heatmap from the confusion matrix\n",
        "%matplotlib inline\n",
        "class_names=[False, True] # name  of classes\n",
        "fig, ax = plt.subplots(figsize=(5, 4))\n",
        "sns.heatmap(pd.DataFrame(cnf_matrix), annot=True, cmap=\"YlGnBu\", fmt='g')\n",
        "ax.xaxis.set_label_position(\"top\")\n",
        "plt.tight_layout()\n",
        "plt.title('Confusion matrix')\n",
        "plt.ylabel('Actual label')\n",
        "plt.xlabel('Predicted label')\n",
        "tick_marks = [0.5, 1.5]\n",
        "plt.xticks(tick_marks, class_names)\n",
        "plt.yticks(tick_marks, class_names)"
      ]
    },
    {
      "cell_type": "code",
      "execution_count": null,
      "metadata": {
        "colab": {
          "base_uri": "https://localhost:8080/"
        },
        "id": "rqf_AwRTcSWC",
        "outputId": "8f025ded-69fd-4814-9a75-d7055b519ba1"
      },
      "outputs": [
        {
          "output_type": "stream",
          "name": "stdout",
          "text": [
            "0.9410208750357449 : is the accuracy score\n",
            "0.9566621803499327 : is the precision score\n",
            "0.9339114439626856 : is the recall score\n",
            "0.9451499235423176 : is the f1 score\n"
          ]
        }
      ],
      "source": [
        "#Evaluation Metrics\n",
        "print(accuracy_score(y_test, y_pred), \": is the accuracy score\")\n",
        "print(precision_score(y_test, y_pred), \": is the precision score\")\n",
        "print(recall_score(y_test, y_pred), \": is the recall score\")\n",
        "print(f1_score(y_test, y_pred), \": is the f1 score\")"
      ]
    },
    {
      "cell_type": "code",
      "execution_count": null,
      "metadata": {
        "colab": {
          "base_uri": "https://localhost:8080/",
          "height": 330
        },
        "id": "LA5aL2AWlGu3",
        "outputId": "cc32294f-a1c7-4cd2-c2de-da3f76a63a86"
      },
      "outputs": [
        {
          "output_type": "display_data",
          "data": {
            "text/plain": [
              "<Figure size 432x288 with 1 Axes>"
            ],
            "image/png": "[encoded data removed]"
          },
          "metadata": {
            "needs_background": "light"
          }
        },
        {
          "output_type": "stream",
          "name": "stdout",
          "text": [
            "AUC on Test data is 0.9802145331319048\n",
            "AUC on Train data is 0.9975945463743385\n"
          ]
        }
      ],
      "source": [
        "#testing our model \n",
        "\n",
        "pred_test =best_clf.predict_proba(X_test)[:,1]\n",
        "fpr1, tpr1, thresholds1 = metrics.roc_curve(y_test, pred_test)\n",
        "pred_train = best_clf.predict_proba(X_train)[:,1]\n",
        "fpr2,tpr2,thresholds2=metrics.roc_curve(y_train, pred_train)\n",
        "\n",
        "#ROC curve\n",
        "x = plt.subplot( )\n",
        "x.plot(fpr1, tpr1, label='Test ROC ,auc='+str(roc_auc_score(y_test,pred_test)))\n",
        "x.plot(fpr2, tpr2, label='Train ROC ,auc='+str(roc_auc_score(y_train,pred_train)))\n",
        "plt.title('ROC')\n",
        "plt.xlabel('FPR')\n",
        "plt.ylabel('TPR')\n",
        "x.legend()\n",
        "plt.show()\n",
        "\n",
        "print(\"AUC on Test data is \" +str(roc_auc_score(y_test,pred_test)))\n",
        "print(\"AUC on Train data is \" +str(roc_auc_score(y_train,pred_train)))"
      ]
    },
    {
      "cell_type": "markdown",
      "metadata": {
        "id": "IwlF6rbZeywm"
      },
      "source": [
        "# RESULTS"
      ]
    },
    {
      "cell_type": "code",
      "execution_count": 20,
      "metadata": {
        "colab": {
          "base_uri": "https://localhost:8080/",
          "height": 143
        },
        "id": "6rnqTRWMSpwD",
        "outputId": "46b03001-ddb3-4d8b-b3a4-ce1d856815c0"
      },
      "outputs": [
        {
          "output_type": "execute_result",
          "data": {
            "text/plain": [
              "                     Accuracy  Precision  Recall    F1  AUC Test  AUC Train\n",
              "KNN Neighbours           82.3       86.1    80.4  83.2      90.0       94.0\n",
              "Logistic Regression      86.8       85.5    91.3  88.3      93.0       93.1\n",
              "Random Forest            94.1       95.6    93.4  94.5      98.0       99.7"
            ],
            "text/html": [
              "\n",
              "  <div id=\"df-dfbfdd03-3021-403a-927a-bdc6c2f69a88\">\n",
              "    <div class=\"colab-df-container\">\n",
              "      <div>\n",
              "<style scoped>\n",
              "    .dataframe tbody tr th:only-of-type {\n",
              "        vertical-align: middle;\n",
              "    }\n",
              "\n",
              "    .dataframe tbody tr th {\n",
              "        vertical-align: top;\n",
              "    }\n",
              "\n",
              "    .dataframe thead th {\n",
              "        text-align: right;\n",
              "    }\n",
              "</style>\n",
              "<table border=\"1\" class=\"dataframe\">\n",
              "  <thead>\n",
              "    <tr style=\"text-align: right;\">\n",
              "      <th></th>\n",
              "      <th>Accuracy</th>\n",
              "      <th>Precision</th>\n",
              "      <th>Recall</th>\n",
              "      <th>F1</th>\n",
              "      <th>AUC Test</th>\n",
              "      <th>AUC Train</th>\n",
              "    </tr>\n",
              "  </thead>\n",
              "  <tbody>\n",
              "    <tr>\n",
              "      <th>KNN Neighbours</th>\n",
              "      <td>82.3</td>\n",
              "      <td>86.1</td>\n",
              "      <td>80.4</td>\n",
              "      <td>83.2</td>\n",
              "      <td>90.0</td>\n",
              "      <td>94.0</td>\n",
              "    </tr>\n",
              "    <tr>\n",
              "      <th>Logistic Regression</th>\n",
              "      <td>86.8</td>\n",
              "      <td>85.5</td>\n",
              "      <td>91.3</td>\n",
              "      <td>88.3</td>\n",
              "      <td>93.0</td>\n",
              "      <td>93.1</td>\n",
              "    </tr>\n",
              "    <tr>\n",
              "      <th>Random Forest</th>\n",
              "      <td>94.1</td>\n",
              "      <td>95.6</td>\n",
              "      <td>93.4</td>\n",
              "      <td>94.5</td>\n",
              "      <td>98.0</td>\n",
              "      <td>99.7</td>\n",
              "    </tr>\n",
              "  </tbody>\n",
              "</table>\n",
              "</div>\n",
              "      <button class=\"colab-df-convert\" onclick=\"convertToInteractive('df-dfbfdd03-3021-403a-927a-bdc6c2f69a88')\"\n",
              "              title=\"Convert this dataframe to an interactive table.\"\n",
              "              style=\"display:none;\">\n",
              "        \n",
              "  <svg xmlns=\"http://www.w3.org/2000/svg\" height=\"24px\"viewBox=\"0 0 24 24\"\n",
              "       width=\"24px\">\n",
              "    <path d=\"M0 0h24v24H0V0z\" fill=\"none\"/>\n",
              "    <path d=\"M18.56 5.44l.94 2.06.94-2.06 2.06-.94-2.06-.94-.94-2.06-.94 2.06-2.06.94zm-11 1L8.5 8.5l.94-2.06 2.06-.94-2.06-.94L8.5 2.5l-.94 2.06-2.06.94zm10 10l.94 2.06.94-2.06 2.06-.94-2.06-.94-.94-2.06-.94 2.06-2.06.94z\"/><path d=\"M17.41 7.96l-1.37-1.37c-.4-.4-.92-.59-1.43-.59-.52 0-1.04.2-1.43.59L10.3 9.45l-7.72 7.72c-.78.78-.78 2.05 0 2.83L4 21.41c.39.39.9.59 1.41.59.51 0 1.02-.2 1.41-.59l7.78-7.78 2.81-2.81c.8-.78.8-2.07 0-2.86zM5.41 20L4 18.59l7.72-7.72 1.47 1.35L5.41 20z\"/>\n",
              "  </svg>\n",
              "      </button>\n",
              "      \n",
              "  <style>\n",
              "    .colab-df-container {\n",
              "      display:flex;\n",
              "      flex-wrap:wrap;\n",
              "      gap: 12px;\n",
              "    }\n",
              "\n",
              "    .colab-df-convert {\n",
              "      background-color: #E8F0FE;\n",
              "      border: none;\n",
              "      border-radius: 50%;\n",
              "      cursor: pointer;\n",
              "      display: none;\n",
              "      fill: #1967D2;\n",
              "      height: 32px;\n",
              "      padding: 0 0 0 0;\n",
              "      width: 32px;\n",
              "    }\n",
              "\n",
              "    .colab-df-convert:hover {\n",
              "      background-color: #E2EBFA;\n",
              "      box-shadow: 0px 1px 2px rgba(60, 64, 67, 0.3), 0px 1px 3px 1px rgba(60, 64, 67, 0.15);\n",
              "      fill: #174EA6;\n",
              "    }\n",
              "\n",
              "    [theme=dark] .colab-df-convert {\n",
              "      background-color: #3B4455;\n",
              "      fill: #D2E3FC;\n",
              "    }\n",
              "\n",
              "    [theme=dark] .colab-df-convert:hover {\n",
              "      background-color: #434B5C;\n",
              "      box-shadow: 0px 1px 3px 1px rgba(0, 0, 0, 0.15);\n",
              "      filter: drop-shadow(0px 1px 2px rgba(0, 0, 0, 0.3));\n",
              "      fill: #FFFFFF;\n",
              "    }\n",
              "  </style>\n",
              "\n",
              "      <script>\n",
              "        const buttonEl =\n",
              "          document.querySelector('#df-dfbfdd03-3021-403a-927a-bdc6c2f69a88 button.colab-df-convert');\n",
              "        buttonEl.style.display =\n",
              "          google.colab.kernel.accessAllowed ? 'block' : 'none';\n",
              "\n",
              "        async function convertToInteractive(key) {\n",
              "          const element = document.querySelector('#df-dfbfdd03-3021-403a-927a-bdc6c2f69a88');\n",
              "          const dataTable =\n",
              "            await google.colab.kernel.invokeFunction('convertToInteractive',\n",
              "                                                     [key], {});\n",
              "          if (!dataTable) return;\n",
              "\n",
              "          const docLinkHtml = 'Like what you see? Visit the ' +\n",
              "            '<a target=\"_blank\" href=https://colab.research.google.com/notebooks/data_table.ipynb>data table notebook</a>'\n",
              "            + ' to learn more about interactive tables.';\n",
              "          element.innerHTML = '';\n",
              "          dataTable['output_type'] = 'display_data';\n",
              "          await google.colab.output.renderOutput(dataTable, element);\n",
              "          const docLink = document.createElement('div');\n",
              "          docLink.innerHTML = docLinkHtml;\n",
              "          element.appendChild(docLink);\n",
              "        }\n",
              "      </script>\n",
              "    </div>\n",
              "  </div>\n",
              "  "
            ]
          },
          "metadata": {},
          "execution_count": 20
        }
      ],
      "source": [
        "df= pd.DataFrame({'Accuracy' : [82.3,86.8,94.1],\n",
        "                 'Precision' : [86.1,85.5,95.6],\n",
        "                 'Recall' : [80.4,91.3,93.4],\n",
        "                 'F1' : [83.2,88.3,94.5],\n",
        "                  'AUC Test':[90.0,93.0,98.0],\n",
        "                 'AUC Train':[94.0,93.1,99.7]},\n",
        "                index=['KNN Neighbours', 'Logistic Regression', 'Random Forest'])\n",
        "df"
      ]
    },
    {
      "cell_type": "markdown",
      "source": [
        "Random Forest Classifier has turned out to be the best classifier among all three models."
      ],
      "metadata": {
        "id": "ji0bqXfcCFkU"
      }
    }
  ],
  "metadata": {
    "colab": {
      "collapsed_sections": [],
      "name": "InternetChurn.ipynb",
      "provenance": [],
      "mount_file_id": "1YDkONbtFehZZh0gyIXK2nEopfAG-iasc",
      "authorship_tag": "ABX9TyPSpef/P4rlqbWHSQko76dj",
      "include_colab_link": true
    },
    "kernelspec": {
      "display_name": "Python 3",
      "name": "python3"
    },
    "language_info": {
      "name": "python"
    }
  },
  "nbformat": 4,
  "nbformat_minor": 0
}